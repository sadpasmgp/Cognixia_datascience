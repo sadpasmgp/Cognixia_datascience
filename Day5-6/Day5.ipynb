{
 "cells": [
  {
   "cell_type": "markdown",
   "metadata": {},
   "source": [
    "## Day5"
   ]
  },
  {
   "cell_type": "code",
   "execution_count": 2,
   "metadata": {},
   "outputs": [],
   "source": [
    "# Groupby\n",
    "# Sort\n",
    "import numpy as np\n",
    "import pandas as pd\n",
    "import matplotlib.pyplot as plt"
   ]
  },
  {
   "cell_type": "code",
   "execution_count": 3,
   "metadata": {},
   "outputs": [
    {
     "data": {
      "text/html": [
       "<div>\n",
       "<style scoped>\n",
       "    .dataframe tbody tr th:only-of-type {\n",
       "        vertical-align: middle;\n",
       "    }\n",
       "\n",
       "    .dataframe tbody tr th {\n",
       "        vertical-align: top;\n",
       "    }\n",
       "\n",
       "    .dataframe thead th {\n",
       "        text-align: right;\n",
       "    }\n",
       "</style>\n",
       "<table border=\"1\" class=\"dataframe\">\n",
       "  <thead>\n",
       "    <tr style=\"text-align: right;\">\n",
       "      <th></th>\n",
       "      <th>A</th>\n",
       "      <th>B</th>\n",
       "      <th>C</th>\n",
       "    </tr>\n",
       "  </thead>\n",
       "  <tbody>\n",
       "    <tr>\n",
       "      <th>0</th>\n",
       "      <td>1.0</td>\n",
       "      <td>5.0</td>\n",
       "      <td>1</td>\n",
       "    </tr>\n",
       "    <tr>\n",
       "      <th>1</th>\n",
       "      <td>2.0</td>\n",
       "      <td>NaN</td>\n",
       "      <td>2</td>\n",
       "    </tr>\n",
       "    <tr>\n",
       "      <th>2</th>\n",
       "      <td>NaN</td>\n",
       "      <td>NaN</td>\n",
       "      <td>3</td>\n",
       "    </tr>\n",
       "  </tbody>\n",
       "</table>\n",
       "</div>"
      ],
      "text/plain": [
       "     A    B  C\n",
       "0  1.0  5.0  1\n",
       "1  2.0  NaN  2\n",
       "2  NaN  NaN  3"
      ]
     },
     "execution_count": 3,
     "metadata": {},
     "output_type": "execute_result"
    }
   ],
   "source": [
    "d = { 'A': [1,2,np.nan], 'B': [5, np.nan, np.nan], 'C': [1,2,3] }\n",
    "df = pd.DataFrame(d)\n",
    "df"
   ]
  },
  {
   "cell_type": "code",
   "execution_count": 5,
   "metadata": {},
   "outputs": [
    {
     "data": {
      "text/html": [
       "<div>\n",
       "<style scoped>\n",
       "    .dataframe tbody tr th:only-of-type {\n",
       "        vertical-align: middle;\n",
       "    }\n",
       "\n",
       "    .dataframe tbody tr th {\n",
       "        vertical-align: top;\n",
       "    }\n",
       "\n",
       "    .dataframe thead th {\n",
       "        text-align: right;\n",
       "    }\n",
       "</style>\n",
       "<table border=\"1\" class=\"dataframe\">\n",
       "  <thead>\n",
       "    <tr style=\"text-align: right;\">\n",
       "      <th></th>\n",
       "      <th>C</th>\n",
       "    </tr>\n",
       "  </thead>\n",
       "  <tbody>\n",
       "    <tr>\n",
       "      <th>0</th>\n",
       "      <td>1</td>\n",
       "    </tr>\n",
       "    <tr>\n",
       "      <th>1</th>\n",
       "      <td>2</td>\n",
       "    </tr>\n",
       "    <tr>\n",
       "      <th>2</th>\n",
       "      <td>3</td>\n",
       "    </tr>\n",
       "  </tbody>\n",
       "</table>\n",
       "</div>"
      ],
      "text/plain": [
       "   C\n",
       "0  1\n",
       "1  2\n",
       "2  3"
      ]
     },
     "execution_count": 5,
     "metadata": {},
     "output_type": "execute_result"
    }
   ],
   "source": [
    "df.dropna(axis=1)"
   ]
  },
  {
   "cell_type": "code",
   "execution_count": 7,
   "metadata": {},
   "outputs": [
    {
     "data": {
      "text/html": [
       "<div>\n",
       "<style scoped>\n",
       "    .dataframe tbody tr th:only-of-type {\n",
       "        vertical-align: middle;\n",
       "    }\n",
       "\n",
       "    .dataframe tbody tr th {\n",
       "        vertical-align: top;\n",
       "    }\n",
       "\n",
       "    .dataframe thead th {\n",
       "        text-align: right;\n",
       "    }\n",
       "</style>\n",
       "<table border=\"1\" class=\"dataframe\">\n",
       "  <thead>\n",
       "    <tr style=\"text-align: right;\">\n",
       "      <th></th>\n",
       "      <th>A</th>\n",
       "      <th>B</th>\n",
       "      <th>C</th>\n",
       "    </tr>\n",
       "  </thead>\n",
       "  <tbody>\n",
       "    <tr>\n",
       "      <th>0</th>\n",
       "      <td>1</td>\n",
       "      <td>5</td>\n",
       "      <td>1</td>\n",
       "    </tr>\n",
       "    <tr>\n",
       "      <th>1</th>\n",
       "      <td>2</td>\n",
       "      <td>100</td>\n",
       "      <td>2</td>\n",
       "    </tr>\n",
       "    <tr>\n",
       "      <th>2</th>\n",
       "      <td>100</td>\n",
       "      <td>100</td>\n",
       "      <td>3</td>\n",
       "    </tr>\n",
       "  </tbody>\n",
       "</table>\n",
       "</div>"
      ],
      "text/plain": [
       "     A    B  C\n",
       "0    1    5  1\n",
       "1    2  100  2\n",
       "2  100  100  3"
      ]
     },
     "execution_count": 7,
     "metadata": {},
     "output_type": "execute_result"
    }
   ],
   "source": [
    "df.fillna(value='100')"
   ]
  },
  {
   "cell_type": "code",
   "execution_count": 11,
   "metadata": {},
   "outputs": [
    {
     "data": {
      "text/plain": [
       "0    1.0\n",
       "1    2.0\n",
       "2    1.0\n",
       "Name: A, dtype: float64"
      ]
     },
     "execution_count": 11,
     "metadata": {},
     "output_type": "execute_result"
    }
   ],
   "source": [
    "df['A'].fillna(value=1)"
   ]
  },
  {
   "cell_type": "code",
   "execution_count": 1,
   "metadata": {},
   "outputs": [
    {
     "name": "stdout",
     "output_type": "stream",
     "text": [
      "/Users/Ganesh/Desktop/Cognixia/14Dec19\n"
     ]
    }
   ],
   "source": [
    "!pwd"
   ]
  },
  {
   "cell_type": "code",
   "execution_count": null,
   "metadata": {},
   "outputs": [],
   "source": []
  },
  {
   "cell_type": "code",
   "execution_count": 17,
   "metadata": {},
   "outputs": [],
   "source": [
    "# Groupby --> It allows you group together the rows based on col and aggregation\n",
    "data = { 'Company': ['A-Company', 'A-Company', 'C-Company', 'C-Company', 'C-Company'],\n",
    "        'Person': ['Aakash', 'John', 'Alexandre', 'Mohan', 'Nikhil'],\n",
    "        'sales': [ 200, 123, 144, 157, 187] }\n",
    "df = pd.DataFrame(data)"
   ]
  },
  {
   "cell_type": "code",
   "execution_count": 18,
   "metadata": {},
   "outputs": [
    {
     "data": {
      "text/html": [
       "<div>\n",
       "<style scoped>\n",
       "    .dataframe tbody tr th:only-of-type {\n",
       "        vertical-align: middle;\n",
       "    }\n",
       "\n",
       "    .dataframe tbody tr th {\n",
       "        vertical-align: top;\n",
       "    }\n",
       "\n",
       "    .dataframe thead th {\n",
       "        text-align: right;\n",
       "    }\n",
       "</style>\n",
       "<table border=\"1\" class=\"dataframe\">\n",
       "  <thead>\n",
       "    <tr style=\"text-align: right;\">\n",
       "      <th></th>\n",
       "      <th>Company</th>\n",
       "      <th>Person</th>\n",
       "      <th>sales</th>\n",
       "    </tr>\n",
       "  </thead>\n",
       "  <tbody>\n",
       "    <tr>\n",
       "      <th>0</th>\n",
       "      <td>A-Company</td>\n",
       "      <td>Aakash</td>\n",
       "      <td>200</td>\n",
       "    </tr>\n",
       "    <tr>\n",
       "      <th>1</th>\n",
       "      <td>A-Company</td>\n",
       "      <td>John</td>\n",
       "      <td>123</td>\n",
       "    </tr>\n",
       "    <tr>\n",
       "      <th>2</th>\n",
       "      <td>C-Company</td>\n",
       "      <td>Alexandre</td>\n",
       "      <td>144</td>\n",
       "    </tr>\n",
       "    <tr>\n",
       "      <th>3</th>\n",
       "      <td>C-Company</td>\n",
       "      <td>Mohan</td>\n",
       "      <td>157</td>\n",
       "    </tr>\n",
       "    <tr>\n",
       "      <th>4</th>\n",
       "      <td>C-Company</td>\n",
       "      <td>Nikhil</td>\n",
       "      <td>187</td>\n",
       "    </tr>\n",
       "  </tbody>\n",
       "</table>\n",
       "</div>"
      ],
      "text/plain": [
       "     Company     Person  sales\n",
       "0  A-Company     Aakash    200\n",
       "1  A-Company       John    123\n",
       "2  C-Company  Alexandre    144\n",
       "3  C-Company      Mohan    157\n",
       "4  C-Company     Nikhil    187"
      ]
     },
     "execution_count": 18,
     "metadata": {},
     "output_type": "execute_result"
    }
   ],
   "source": [
    "df"
   ]
  },
  {
   "cell_type": "code",
   "execution_count": 19,
   "metadata": {},
   "outputs": [],
   "source": [
    "by_company = df.groupby('Company')"
   ]
  },
  {
   "cell_type": "code",
   "execution_count": 21,
   "metadata": {},
   "outputs": [
    {
     "data": {
      "text/html": [
       "<div>\n",
       "<style scoped>\n",
       "    .dataframe tbody tr th:only-of-type {\n",
       "        vertical-align: middle;\n",
       "    }\n",
       "\n",
       "    .dataframe tbody tr th {\n",
       "        vertical-align: top;\n",
       "    }\n",
       "\n",
       "    .dataframe thead th {\n",
       "        text-align: right;\n",
       "    }\n",
       "</style>\n",
       "<table border=\"1\" class=\"dataframe\">\n",
       "  <thead>\n",
       "    <tr style=\"text-align: right;\">\n",
       "      <th></th>\n",
       "      <th>sales</th>\n",
       "    </tr>\n",
       "    <tr>\n",
       "      <th>Company</th>\n",
       "      <th></th>\n",
       "    </tr>\n",
       "  </thead>\n",
       "  <tbody>\n",
       "    <tr>\n",
       "      <th>A-Company</th>\n",
       "      <td>161.500000</td>\n",
       "    </tr>\n",
       "    <tr>\n",
       "      <th>C-Company</th>\n",
       "      <td>162.666667</td>\n",
       "    </tr>\n",
       "  </tbody>\n",
       "</table>\n",
       "</div>"
      ],
      "text/plain": [
       "                sales\n",
       "Company              \n",
       "A-Company  161.500000\n",
       "C-Company  162.666667"
      ]
     },
     "execution_count": 21,
     "metadata": {},
     "output_type": "execute_result"
    }
   ],
   "source": [
    "by_company.mean()"
   ]
  },
  {
   "cell_type": "code",
   "execution_count": 24,
   "metadata": {},
   "outputs": [
    {
     "data": {
      "text/html": [
       "<div>\n",
       "<style scoped>\n",
       "    .dataframe tbody tr th:only-of-type {\n",
       "        vertical-align: middle;\n",
       "    }\n",
       "\n",
       "    .dataframe tbody tr th {\n",
       "        vertical-align: top;\n",
       "    }\n",
       "\n",
       "    .dataframe thead th {\n",
       "        text-align: right;\n",
       "    }\n",
       "</style>\n",
       "<table border=\"1\" class=\"dataframe\">\n",
       "  <thead>\n",
       "    <tr style=\"text-align: right;\">\n",
       "      <th></th>\n",
       "      <th>sales</th>\n",
       "    </tr>\n",
       "    <tr>\n",
       "      <th>Company</th>\n",
       "      <th></th>\n",
       "    </tr>\n",
       "  </thead>\n",
       "  <tbody>\n",
       "    <tr>\n",
       "      <th>A-Company</th>\n",
       "      <td>161.500000</td>\n",
       "    </tr>\n",
       "    <tr>\n",
       "      <th>C-Company</th>\n",
       "      <td>162.666667</td>\n",
       "    </tr>\n",
       "  </tbody>\n",
       "</table>\n",
       "</div>"
      ],
      "text/plain": [
       "                sales\n",
       "Company              \n",
       "A-Company  161.500000\n",
       "C-Company  162.666667"
      ]
     },
     "execution_count": 24,
     "metadata": {},
     "output_type": "execute_result"
    }
   ],
   "source": [
    "by_company.mean()"
   ]
  },
  {
   "cell_type": "code",
   "execution_count": 40,
   "metadata": {},
   "outputs": [],
   "source": [
    "city_temp = pd.read_csv('/Users/Ganesh/Desktop/Cognixia/Data/city_temp.csv')"
   ]
  },
  {
   "cell_type": "code",
   "execution_count": 41,
   "metadata": {},
   "outputs": [
    {
     "data": {
      "text/html": [
       "<div>\n",
       "<style scoped>\n",
       "    .dataframe tbody tr th:only-of-type {\n",
       "        vertical-align: middle;\n",
       "    }\n",
       "\n",
       "    .dataframe tbody tr th {\n",
       "        vertical-align: top;\n",
       "    }\n",
       "\n",
       "    .dataframe thead th {\n",
       "        text-align: right;\n",
       "    }\n",
       "</style>\n",
       "<table border=\"1\" class=\"dataframe\">\n",
       "  <thead>\n",
       "    <tr style=\"text-align: right;\">\n",
       "      <th></th>\n",
       "      <th>day</th>\n",
       "      <th>city</th>\n",
       "      <th>temp</th>\n",
       "    </tr>\n",
       "  </thead>\n",
       "  <tbody>\n",
       "    <tr>\n",
       "      <th>0</th>\n",
       "      <td>2</td>\n",
       "      <td>Mumbai_City</td>\n",
       "      <td>28</td>\n",
       "    </tr>\n",
       "    <tr>\n",
       "      <th>1</th>\n",
       "      <td>3</td>\n",
       "      <td>Pune</td>\n",
       "      <td>24</td>\n",
       "    </tr>\n",
       "    <tr>\n",
       "      <th>2</th>\n",
       "      <td>4</td>\n",
       "      <td>Mumbai</td>\n",
       "      <td>30</td>\n",
       "    </tr>\n",
       "    <tr>\n",
       "      <th>3</th>\n",
       "      <td>5</td>\n",
       "      <td>Mumbai_City</td>\n",
       "      <td>31</td>\n",
       "    </tr>\n",
       "    <tr>\n",
       "      <th>4</th>\n",
       "      <td>6</td>\n",
       "      <td>Pune</td>\n",
       "      <td>29</td>\n",
       "    </tr>\n",
       "    <tr>\n",
       "      <th>5</th>\n",
       "      <td>7</td>\n",
       "      <td>Mumbai</td>\n",
       "      <td>34</td>\n",
       "    </tr>\n",
       "    <tr>\n",
       "      <th>6</th>\n",
       "      <td>8</td>\n",
       "      <td>Mumbai</td>\n",
       "      <td>34</td>\n",
       "    </tr>\n",
       "    <tr>\n",
       "      <th>7</th>\n",
       "      <td>9</td>\n",
       "      <td>Pune</td>\n",
       "      <td>29</td>\n",
       "    </tr>\n",
       "  </tbody>\n",
       "</table>\n",
       "</div>"
      ],
      "text/plain": [
       "   day         city  temp\n",
       "0    2  Mumbai_City    28\n",
       "1    3         Pune    24\n",
       "2    4      Mumbai     30\n",
       "3    5  Mumbai_City    31\n",
       "4    6         Pune    29\n",
       "5    7       Mumbai    34\n",
       "6    8       Mumbai    34\n",
       "7    9         Pune    29"
      ]
     },
     "execution_count": 41,
     "metadata": {},
     "output_type": "execute_result"
    }
   ],
   "source": [
    "city_temp"
   ]
  },
  {
   "cell_type": "code",
   "execution_count": 31,
   "metadata": {},
   "outputs": [
    {
     "data": {
      "text/plain": [
       "27.333333333333332"
      ]
     },
     "execution_count": 31,
     "metadata": {},
     "output_type": "execute_result"
    }
   ],
   "source": [
    "city_temp[city_temp['city'] == 'Pune'].temp.mean()"
   ]
  },
  {
   "cell_type": "code",
   "execution_count": 42,
   "metadata": {},
   "outputs": [],
   "source": [
    "city_temp['city'] = city_temp['city'].str.strip()"
   ]
  },
  {
   "cell_type": "code",
   "execution_count": 43,
   "metadata": {},
   "outputs": [
    {
     "data": {
      "text/html": [
       "<div>\n",
       "<style scoped>\n",
       "    .dataframe tbody tr th:only-of-type {\n",
       "        vertical-align: middle;\n",
       "    }\n",
       "\n",
       "    .dataframe tbody tr th {\n",
       "        vertical-align: top;\n",
       "    }\n",
       "\n",
       "    .dataframe thead th {\n",
       "        text-align: right;\n",
       "    }\n",
       "</style>\n",
       "<table border=\"1\" class=\"dataframe\">\n",
       "  <thead>\n",
       "    <tr style=\"text-align: right;\">\n",
       "      <th></th>\n",
       "      <th>day</th>\n",
       "      <th>city</th>\n",
       "      <th>temp</th>\n",
       "    </tr>\n",
       "  </thead>\n",
       "  <tbody>\n",
       "    <tr>\n",
       "      <th>0</th>\n",
       "      <td>2</td>\n",
       "      <td>Mumbai_City</td>\n",
       "      <td>28</td>\n",
       "    </tr>\n",
       "    <tr>\n",
       "      <th>1</th>\n",
       "      <td>3</td>\n",
       "      <td>Pune</td>\n",
       "      <td>24</td>\n",
       "    </tr>\n",
       "    <tr>\n",
       "      <th>2</th>\n",
       "      <td>4</td>\n",
       "      <td>Mumbai</td>\n",
       "      <td>30</td>\n",
       "    </tr>\n",
       "    <tr>\n",
       "      <th>3</th>\n",
       "      <td>5</td>\n",
       "      <td>Mumbai_City</td>\n",
       "      <td>31</td>\n",
       "    </tr>\n",
       "    <tr>\n",
       "      <th>4</th>\n",
       "      <td>6</td>\n",
       "      <td>Pune</td>\n",
       "      <td>29</td>\n",
       "    </tr>\n",
       "    <tr>\n",
       "      <th>5</th>\n",
       "      <td>7</td>\n",
       "      <td>Mumbai</td>\n",
       "      <td>34</td>\n",
       "    </tr>\n",
       "    <tr>\n",
       "      <th>6</th>\n",
       "      <td>8</td>\n",
       "      <td>Mumbai</td>\n",
       "      <td>34</td>\n",
       "    </tr>\n",
       "    <tr>\n",
       "      <th>7</th>\n",
       "      <td>9</td>\n",
       "      <td>Pune</td>\n",
       "      <td>29</td>\n",
       "    </tr>\n",
       "  </tbody>\n",
       "</table>\n",
       "</div>"
      ],
      "text/plain": [
       "   day         city  temp\n",
       "0    2  Mumbai_City    28\n",
       "1    3         Pune    24\n",
       "2    4       Mumbai    30\n",
       "3    5  Mumbai_City    31\n",
       "4    6         Pune    29\n",
       "5    7       Mumbai    34\n",
       "6    8       Mumbai    34\n",
       "7    9         Pune    29"
      ]
     },
     "execution_count": 43,
     "metadata": {},
     "output_type": "execute_result"
    }
   ],
   "source": [
    "city_temp"
   ]
  },
  {
   "cell_type": "code",
   "execution_count": 44,
   "metadata": {},
   "outputs": [
    {
     "data": {
      "text/plain": [
       "3"
      ]
     },
     "execution_count": 44,
     "metadata": {},
     "output_type": "execute_result"
    }
   ],
   "source": [
    "len(city_temp[city_temp['city'] == 'Mumbai'])"
   ]
  },
  {
   "cell_type": "code",
   "execution_count": 45,
   "metadata": {},
   "outputs": [
    {
     "data": {
      "text/plain": [
       "32.666666666666664"
      ]
     },
     "execution_count": 45,
     "metadata": {},
     "output_type": "execute_result"
    }
   ],
   "source": [
    "city_temp[city_temp['city'] == 'Mumbai'].temp.mean()"
   ]
  },
  {
   "cell_type": "code",
   "execution_count": 53,
   "metadata": {},
   "outputs": [],
   "source": [
    "g = city_temp.groupby('city')"
   ]
  },
  {
   "cell_type": "code",
   "execution_count": 56,
   "metadata": {},
   "outputs": [
    {
     "name": "stdout",
     "output_type": "stream",
     "text": [
      "102\n",
      "104\n",
      "1066\n",
      "1653\n"
     ]
    }
   ],
   "source": [
    "# for k,v in my_dict.items():\n",
    "#    print(k, v)\n",
    "\n",
    "lst = [102, 104, 1066, 1653]\n",
    "for _, val in enumerate(lst):\n",
    "    print(val)"
   ]
  },
  {
   "cell_type": "code",
   "execution_count": null,
   "metadata": {},
   "outputs": [],
   "source": []
  },
  {
   "cell_type": "code",
   "execution_count": 49,
   "metadata": {},
   "outputs": [
    {
     "name": "stdout",
     "output_type": "stream",
     "text": [
      "   day    city  temp\n",
      "2    4  Mumbai    30\n",
      "5    7  Mumbai    34\n",
      "6    8  Mumbai    34\n",
      "   day         city  temp\n",
      "0    2  Mumbai_City    28\n",
      "3    5  Mumbai_City    31\n",
      "   day  city  temp\n",
      "1    3  Pune    24\n",
      "4    6  Pune    29\n",
      "7    9  Pune    29\n"
     ]
    }
   ],
   "source": [
    "for t, city in g:\n",
    "    print(city)"
   ]
  },
  {
   "cell_type": "code",
   "execution_count": 50,
   "metadata": {},
   "outputs": [
    {
     "data": {
      "text/html": [
       "<div>\n",
       "<style scoped>\n",
       "    .dataframe tbody tr th:only-of-type {\n",
       "        vertical-align: middle;\n",
       "    }\n",
       "\n",
       "    .dataframe tbody tr th {\n",
       "        vertical-align: top;\n",
       "    }\n",
       "\n",
       "    .dataframe thead tr th {\n",
       "        text-align: left;\n",
       "    }\n",
       "\n",
       "    .dataframe thead tr:last-of-type th {\n",
       "        text-align: right;\n",
       "    }\n",
       "</style>\n",
       "<table border=\"1\" class=\"dataframe\">\n",
       "  <thead>\n",
       "    <tr>\n",
       "      <th></th>\n",
       "      <th colspan=\"8\" halign=\"left\">day</th>\n",
       "      <th colspan=\"8\" halign=\"left\">temp</th>\n",
       "    </tr>\n",
       "    <tr>\n",
       "      <th></th>\n",
       "      <th>count</th>\n",
       "      <th>mean</th>\n",
       "      <th>std</th>\n",
       "      <th>min</th>\n",
       "      <th>25%</th>\n",
       "      <th>50%</th>\n",
       "      <th>75%</th>\n",
       "      <th>max</th>\n",
       "      <th>count</th>\n",
       "      <th>mean</th>\n",
       "      <th>std</th>\n",
       "      <th>min</th>\n",
       "      <th>25%</th>\n",
       "      <th>50%</th>\n",
       "      <th>75%</th>\n",
       "      <th>max</th>\n",
       "    </tr>\n",
       "    <tr>\n",
       "      <th>city</th>\n",
       "      <th></th>\n",
       "      <th></th>\n",
       "      <th></th>\n",
       "      <th></th>\n",
       "      <th></th>\n",
       "      <th></th>\n",
       "      <th></th>\n",
       "      <th></th>\n",
       "      <th></th>\n",
       "      <th></th>\n",
       "      <th></th>\n",
       "      <th></th>\n",
       "      <th></th>\n",
       "      <th></th>\n",
       "      <th></th>\n",
       "      <th></th>\n",
       "    </tr>\n",
       "  </thead>\n",
       "  <tbody>\n",
       "    <tr>\n",
       "      <th>Mumbai</th>\n",
       "      <td>3.0</td>\n",
       "      <td>6.333333</td>\n",
       "      <td>2.081666</td>\n",
       "      <td>4.0</td>\n",
       "      <td>5.50</td>\n",
       "      <td>7.0</td>\n",
       "      <td>7.50</td>\n",
       "      <td>8.0</td>\n",
       "      <td>3.0</td>\n",
       "      <td>32.666667</td>\n",
       "      <td>2.309401</td>\n",
       "      <td>30.0</td>\n",
       "      <td>32.00</td>\n",
       "      <td>34.0</td>\n",
       "      <td>34.00</td>\n",
       "      <td>34.0</td>\n",
       "    </tr>\n",
       "    <tr>\n",
       "      <th>Mumbai_City</th>\n",
       "      <td>2.0</td>\n",
       "      <td>3.500000</td>\n",
       "      <td>2.121320</td>\n",
       "      <td>2.0</td>\n",
       "      <td>2.75</td>\n",
       "      <td>3.5</td>\n",
       "      <td>4.25</td>\n",
       "      <td>5.0</td>\n",
       "      <td>2.0</td>\n",
       "      <td>29.500000</td>\n",
       "      <td>2.121320</td>\n",
       "      <td>28.0</td>\n",
       "      <td>28.75</td>\n",
       "      <td>29.5</td>\n",
       "      <td>30.25</td>\n",
       "      <td>31.0</td>\n",
       "    </tr>\n",
       "    <tr>\n",
       "      <th>Pune</th>\n",
       "      <td>3.0</td>\n",
       "      <td>6.000000</td>\n",
       "      <td>3.000000</td>\n",
       "      <td>3.0</td>\n",
       "      <td>4.50</td>\n",
       "      <td>6.0</td>\n",
       "      <td>7.50</td>\n",
       "      <td>9.0</td>\n",
       "      <td>3.0</td>\n",
       "      <td>27.333333</td>\n",
       "      <td>2.886751</td>\n",
       "      <td>24.0</td>\n",
       "      <td>26.50</td>\n",
       "      <td>29.0</td>\n",
       "      <td>29.00</td>\n",
       "      <td>29.0</td>\n",
       "    </tr>\n",
       "  </tbody>\n",
       "</table>\n",
       "</div>"
      ],
      "text/plain": [
       "              day                                                 temp  \\\n",
       "            count      mean       std  min   25%  50%   75%  max count   \n",
       "city                                                                     \n",
       "Mumbai        3.0  6.333333  2.081666  4.0  5.50  7.0  7.50  8.0   3.0   \n",
       "Mumbai_City   2.0  3.500000  2.121320  2.0  2.75  3.5  4.25  5.0   2.0   \n",
       "Pune          3.0  6.000000  3.000000  3.0  4.50  6.0  7.50  9.0   3.0   \n",
       "\n",
       "                                                                  \n",
       "                  mean       std   min    25%   50%    75%   max  \n",
       "city                                                              \n",
       "Mumbai       32.666667  2.309401  30.0  32.00  34.0  34.00  34.0  \n",
       "Mumbai_City  29.500000  2.121320  28.0  28.75  29.5  30.25  31.0  \n",
       "Pune         27.333333  2.886751  24.0  26.50  29.0  29.00  29.0  "
      ]
     },
     "execution_count": 50,
     "metadata": {},
     "output_type": "execute_result"
    }
   ],
   "source": [
    "g.describe()"
   ]
  },
  {
   "cell_type": "code",
   "execution_count": null,
   "metadata": {},
   "outputs": [],
   "source": []
  },
  {
   "cell_type": "code",
   "execution_count": 51,
   "metadata": {},
   "outputs": [
    {
     "name": "stdout",
     "output_type": "stream",
     "text": [
      "WARNING *** OLE2 inconsistency: SSCS size is 0 but SSAT size is non-zero\n"
     ]
    }
   ],
   "source": [
    "df = pd.read_excel('/Users/Ganesh/Desktop/Cognixia/Data/Superstore.xls')"
   ]
  },
  {
   "cell_type": "code",
   "execution_count": 52,
   "metadata": {},
   "outputs": [
    {
     "data": {
      "text/html": [
       "<div>\n",
       "<style scoped>\n",
       "    .dataframe tbody tr th:only-of-type {\n",
       "        vertical-align: middle;\n",
       "    }\n",
       "\n",
       "    .dataframe tbody tr th {\n",
       "        vertical-align: top;\n",
       "    }\n",
       "\n",
       "    .dataframe thead th {\n",
       "        text-align: right;\n",
       "    }\n",
       "</style>\n",
       "<table border=\"1\" class=\"dataframe\">\n",
       "  <thead>\n",
       "    <tr style=\"text-align: right;\">\n",
       "      <th></th>\n",
       "      <th>Row ID</th>\n",
       "      <th>Order ID</th>\n",
       "      <th>Order Date</th>\n",
       "      <th>Ship Date</th>\n",
       "      <th>Ship Mode</th>\n",
       "      <th>Customer ID</th>\n",
       "      <th>Customer Name</th>\n",
       "      <th>Segment</th>\n",
       "      <th>Country</th>\n",
       "      <th>City</th>\n",
       "      <th>...</th>\n",
       "      <th>Postal Code</th>\n",
       "      <th>Region</th>\n",
       "      <th>Product ID</th>\n",
       "      <th>Category</th>\n",
       "      <th>Sub-Category</th>\n",
       "      <th>Product Name</th>\n",
       "      <th>Sales</th>\n",
       "      <th>Quantity</th>\n",
       "      <th>Discount</th>\n",
       "      <th>Profit</th>\n",
       "    </tr>\n",
       "  </thead>\n",
       "  <tbody>\n",
       "    <tr>\n",
       "      <th>0</th>\n",
       "      <td>1</td>\n",
       "      <td>CA-2017-152156</td>\n",
       "      <td>2017-11-08</td>\n",
       "      <td>2017-11-11</td>\n",
       "      <td>Second Class</td>\n",
       "      <td>CG-12520</td>\n",
       "      <td>Claire Gute</td>\n",
       "      <td>Consumer</td>\n",
       "      <td>United States</td>\n",
       "      <td>Henderson</td>\n",
       "      <td>...</td>\n",
       "      <td>42420.0</td>\n",
       "      <td>South</td>\n",
       "      <td>FUR-BO-10001798</td>\n",
       "      <td>Furniture</td>\n",
       "      <td>Bookcases</td>\n",
       "      <td>Bush Somerset Collection Bookcase</td>\n",
       "      <td>261.9600</td>\n",
       "      <td>2</td>\n",
       "      <td>0.00</td>\n",
       "      <td>41.9136</td>\n",
       "    </tr>\n",
       "    <tr>\n",
       "      <th>1</th>\n",
       "      <td>2</td>\n",
       "      <td>CA-2017-152156</td>\n",
       "      <td>2017-11-08</td>\n",
       "      <td>2017-11-11</td>\n",
       "      <td>Second Class</td>\n",
       "      <td>CG-12520</td>\n",
       "      <td>Claire Gute</td>\n",
       "      <td>Consumer</td>\n",
       "      <td>United States</td>\n",
       "      <td>Henderson</td>\n",
       "      <td>...</td>\n",
       "      <td>42420.0</td>\n",
       "      <td>South</td>\n",
       "      <td>FUR-CH-10000454</td>\n",
       "      <td>Furniture</td>\n",
       "      <td>Chairs</td>\n",
       "      <td>Hon Deluxe Fabric Upholstered Stacking Chairs,...</td>\n",
       "      <td>731.9400</td>\n",
       "      <td>3</td>\n",
       "      <td>0.00</td>\n",
       "      <td>219.5820</td>\n",
       "    </tr>\n",
       "    <tr>\n",
       "      <th>2</th>\n",
       "      <td>3</td>\n",
       "      <td>CA-2017-138688</td>\n",
       "      <td>2017-06-12</td>\n",
       "      <td>2017-06-16</td>\n",
       "      <td>Second Class</td>\n",
       "      <td>DV-13045</td>\n",
       "      <td>Darrin Van Huff</td>\n",
       "      <td>Corporate</td>\n",
       "      <td>United States</td>\n",
       "      <td>Los Angeles</td>\n",
       "      <td>...</td>\n",
       "      <td>90036.0</td>\n",
       "      <td>West</td>\n",
       "      <td>OFF-LA-10000240</td>\n",
       "      <td>Office Supplies</td>\n",
       "      <td>Labels</td>\n",
       "      <td>Self-Adhesive Address Labels for Typewriters b...</td>\n",
       "      <td>14.6200</td>\n",
       "      <td>2</td>\n",
       "      <td>0.00</td>\n",
       "      <td>6.8714</td>\n",
       "    </tr>\n",
       "    <tr>\n",
       "      <th>3</th>\n",
       "      <td>4</td>\n",
       "      <td>US-2016-108966</td>\n",
       "      <td>2016-10-11</td>\n",
       "      <td>2016-10-18</td>\n",
       "      <td>Standard Class</td>\n",
       "      <td>SO-20335</td>\n",
       "      <td>Sean O'Donnell</td>\n",
       "      <td>Consumer</td>\n",
       "      <td>United States</td>\n",
       "      <td>Fort Lauderdale</td>\n",
       "      <td>...</td>\n",
       "      <td>33311.0</td>\n",
       "      <td>South</td>\n",
       "      <td>FUR-TA-10000577</td>\n",
       "      <td>Furniture</td>\n",
       "      <td>Tables</td>\n",
       "      <td>Bretford CR4500 Series Slim Rectangular Table</td>\n",
       "      <td>957.5775</td>\n",
       "      <td>5</td>\n",
       "      <td>0.45</td>\n",
       "      <td>-383.0310</td>\n",
       "    </tr>\n",
       "    <tr>\n",
       "      <th>4</th>\n",
       "      <td>5</td>\n",
       "      <td>US-2016-108966</td>\n",
       "      <td>2016-10-11</td>\n",
       "      <td>2016-10-18</td>\n",
       "      <td>Standard Class</td>\n",
       "      <td>SO-20335</td>\n",
       "      <td>Sean O'Donnell</td>\n",
       "      <td>Consumer</td>\n",
       "      <td>United States</td>\n",
       "      <td>Fort Lauderdale</td>\n",
       "      <td>...</td>\n",
       "      <td>33311.0</td>\n",
       "      <td>South</td>\n",
       "      <td>OFF-ST-10000760</td>\n",
       "      <td>Office Supplies</td>\n",
       "      <td>Storage</td>\n",
       "      <td>Eldon Fold 'N Roll Cart System</td>\n",
       "      <td>22.3680</td>\n",
       "      <td>2</td>\n",
       "      <td>0.20</td>\n",
       "      <td>2.5164</td>\n",
       "    </tr>\n",
       "  </tbody>\n",
       "</table>\n",
       "<p>5 rows × 21 columns</p>\n",
       "</div>"
      ],
      "text/plain": [
       "   Row ID        Order ID Order Date  Ship Date       Ship Mode Customer ID  \\\n",
       "0       1  CA-2017-152156 2017-11-08 2017-11-11    Second Class    CG-12520   \n",
       "1       2  CA-2017-152156 2017-11-08 2017-11-11    Second Class    CG-12520   \n",
       "2       3  CA-2017-138688 2017-06-12 2017-06-16    Second Class    DV-13045   \n",
       "3       4  US-2016-108966 2016-10-11 2016-10-18  Standard Class    SO-20335   \n",
       "4       5  US-2016-108966 2016-10-11 2016-10-18  Standard Class    SO-20335   \n",
       "\n",
       "     Customer Name    Segment        Country             City  ...  \\\n",
       "0      Claire Gute   Consumer  United States        Henderson  ...   \n",
       "1      Claire Gute   Consumer  United States        Henderson  ...   \n",
       "2  Darrin Van Huff  Corporate  United States      Los Angeles  ...   \n",
       "3   Sean O'Donnell   Consumer  United States  Fort Lauderdale  ...   \n",
       "4   Sean O'Donnell   Consumer  United States  Fort Lauderdale  ...   \n",
       "\n",
       "  Postal Code  Region       Product ID         Category Sub-Category  \\\n",
       "0     42420.0   South  FUR-BO-10001798        Furniture    Bookcases   \n",
       "1     42420.0   South  FUR-CH-10000454        Furniture       Chairs   \n",
       "2     90036.0    West  OFF-LA-10000240  Office Supplies       Labels   \n",
       "3     33311.0   South  FUR-TA-10000577        Furniture       Tables   \n",
       "4     33311.0   South  OFF-ST-10000760  Office Supplies      Storage   \n",
       "\n",
       "                                        Product Name     Sales  Quantity  \\\n",
       "0                  Bush Somerset Collection Bookcase  261.9600         2   \n",
       "1  Hon Deluxe Fabric Upholstered Stacking Chairs,...  731.9400         3   \n",
       "2  Self-Adhesive Address Labels for Typewriters b...   14.6200         2   \n",
       "3      Bretford CR4500 Series Slim Rectangular Table  957.5775         5   \n",
       "4                     Eldon Fold 'N Roll Cart System   22.3680         2   \n",
       "\n",
       "   Discount    Profit  \n",
       "0      0.00   41.9136  \n",
       "1      0.00  219.5820  \n",
       "2      0.00    6.8714  \n",
       "3      0.45 -383.0310  \n",
       "4      0.20    2.5164  \n",
       "\n",
       "[5 rows x 21 columns]"
      ]
     },
     "execution_count": 52,
     "metadata": {},
     "output_type": "execute_result"
    }
   ],
   "source": [
    "df.head()"
   ]
  },
  {
   "cell_type": "code",
   "execution_count": 62,
   "metadata": {},
   "outputs": [
    {
     "data": {
      "text/html": [
       "<div>\n",
       "<style scoped>\n",
       "    .dataframe tbody tr th:only-of-type {\n",
       "        vertical-align: middle;\n",
       "    }\n",
       "\n",
       "    .dataframe tbody tr th {\n",
       "        vertical-align: top;\n",
       "    }\n",
       "\n",
       "    .dataframe thead th {\n",
       "        text-align: right;\n",
       "    }\n",
       "</style>\n",
       "<table border=\"1\" class=\"dataframe\">\n",
       "  <thead>\n",
       "    <tr style=\"text-align: right;\">\n",
       "      <th></th>\n",
       "      <th>Row ID</th>\n",
       "      <th>Order ID</th>\n",
       "      <th>Order Date</th>\n",
       "      <th>Ship Date</th>\n",
       "      <th>Ship Mode</th>\n",
       "      <th>Customer ID</th>\n",
       "      <th>Customer Name</th>\n",
       "      <th>Segment</th>\n",
       "      <th>Country</th>\n",
       "      <th>City</th>\n",
       "      <th>...</th>\n",
       "      <th>Postal Code</th>\n",
       "      <th>Region</th>\n",
       "      <th>Product ID</th>\n",
       "      <th>Category</th>\n",
       "      <th>Sub-Category</th>\n",
       "      <th>Product Name</th>\n",
       "      <th>Sales</th>\n",
       "      <th>Quantity</th>\n",
       "      <th>Discount</th>\n",
       "      <th>Profit</th>\n",
       "    </tr>\n",
       "  </thead>\n",
       "  <tbody>\n",
       "    <tr>\n",
       "      <th>8801</th>\n",
       "      <td>8802</td>\n",
       "      <td>CA-2017-140935</td>\n",
       "      <td>2017-11-10</td>\n",
       "      <td>2017-11-12</td>\n",
       "      <td>First Class</td>\n",
       "      <td>AB-10015</td>\n",
       "      <td>Aaron Bergman</td>\n",
       "      <td>Consumer</td>\n",
       "      <td>United States</td>\n",
       "      <td>Oklahoma City</td>\n",
       "      <td>...</td>\n",
       "      <td>73120.0</td>\n",
       "      <td>Central</td>\n",
       "      <td>TEC-PH-10000562</td>\n",
       "      <td>Technology</td>\n",
       "      <td>Phones</td>\n",
       "      <td>Samsung Convoy 3</td>\n",
       "      <td>221.980</td>\n",
       "      <td>2</td>\n",
       "      <td>0.0</td>\n",
       "      <td>62.1544</td>\n",
       "    </tr>\n",
       "    <tr>\n",
       "      <th>4961</th>\n",
       "      <td>4962</td>\n",
       "      <td>CA-2015-156587</td>\n",
       "      <td>2015-03-07</td>\n",
       "      <td>2015-03-08</td>\n",
       "      <td>First Class</td>\n",
       "      <td>AB-10015</td>\n",
       "      <td>Aaron Bergman</td>\n",
       "      <td>Consumer</td>\n",
       "      <td>United States</td>\n",
       "      <td>Seattle</td>\n",
       "      <td>...</td>\n",
       "      <td>98103.0</td>\n",
       "      <td>West</td>\n",
       "      <td>FUR-CH-10004477</td>\n",
       "      <td>Furniture</td>\n",
       "      <td>Chairs</td>\n",
       "      <td>Global Push Button Manager's Chair, Indigo</td>\n",
       "      <td>48.712</td>\n",
       "      <td>1</td>\n",
       "      <td>0.2</td>\n",
       "      <td>5.4801</td>\n",
       "    </tr>\n",
       "    <tr>\n",
       "      <th>4962</th>\n",
       "      <td>4963</td>\n",
       "      <td>CA-2015-156587</td>\n",
       "      <td>2015-03-07</td>\n",
       "      <td>2015-03-08</td>\n",
       "      <td>First Class</td>\n",
       "      <td>AB-10015</td>\n",
       "      <td>Aaron Bergman</td>\n",
       "      <td>Consumer</td>\n",
       "      <td>United States</td>\n",
       "      <td>Seattle</td>\n",
       "      <td>...</td>\n",
       "      <td>98103.0</td>\n",
       "      <td>West</td>\n",
       "      <td>OFF-AR-10001427</td>\n",
       "      <td>Office Supplies</td>\n",
       "      <td>Art</td>\n",
       "      <td>Newell 330</td>\n",
       "      <td>17.940</td>\n",
       "      <td>3</td>\n",
       "      <td>0.0</td>\n",
       "      <td>4.6644</td>\n",
       "    </tr>\n",
       "    <tr>\n",
       "      <th>4963</th>\n",
       "      <td>4964</td>\n",
       "      <td>CA-2015-156587</td>\n",
       "      <td>2015-03-07</td>\n",
       "      <td>2015-03-08</td>\n",
       "      <td>First Class</td>\n",
       "      <td>AB-10015</td>\n",
       "      <td>Aaron Bergman</td>\n",
       "      <td>Consumer</td>\n",
       "      <td>United States</td>\n",
       "      <td>Seattle</td>\n",
       "      <td>...</td>\n",
       "      <td>98103.0</td>\n",
       "      <td>West</td>\n",
       "      <td>OFF-ST-10002344</td>\n",
       "      <td>Office Supplies</td>\n",
       "      <td>Storage</td>\n",
       "      <td>Carina 42\"Hx23 3/4\"W Media Storage Unit</td>\n",
       "      <td>242.940</td>\n",
       "      <td>3</td>\n",
       "      <td>0.0</td>\n",
       "      <td>4.8588</td>\n",
       "    </tr>\n",
       "    <tr>\n",
       "      <th>8802</th>\n",
       "      <td>8803</td>\n",
       "      <td>CA-2017-140935</td>\n",
       "      <td>2017-11-10</td>\n",
       "      <td>2017-11-12</td>\n",
       "      <td>First Class</td>\n",
       "      <td>AB-10015</td>\n",
       "      <td>Aaron Bergman</td>\n",
       "      <td>Consumer</td>\n",
       "      <td>United States</td>\n",
       "      <td>Oklahoma City</td>\n",
       "      <td>...</td>\n",
       "      <td>73120.0</td>\n",
       "      <td>Central</td>\n",
       "      <td>FUR-BO-10003966</td>\n",
       "      <td>Furniture</td>\n",
       "      <td>Bookcases</td>\n",
       "      <td>Sauder Facets Collection Library, Sky Alder Fi...</td>\n",
       "      <td>341.960</td>\n",
       "      <td>2</td>\n",
       "      <td>0.0</td>\n",
       "      <td>54.7136</td>\n",
       "    </tr>\n",
       "    <tr>\n",
       "      <th>...</th>\n",
       "      <td>...</td>\n",
       "      <td>...</td>\n",
       "      <td>...</td>\n",
       "      <td>...</td>\n",
       "      <td>...</td>\n",
       "      <td>...</td>\n",
       "      <td>...</td>\n",
       "      <td>...</td>\n",
       "      <td>...</td>\n",
       "      <td>...</td>\n",
       "      <td>...</td>\n",
       "      <td>...</td>\n",
       "      <td>...</td>\n",
       "      <td>...</td>\n",
       "      <td>...</td>\n",
       "      <td>...</td>\n",
       "      <td>...</td>\n",
       "      <td>...</td>\n",
       "      <td>...</td>\n",
       "      <td>...</td>\n",
       "      <td>...</td>\n",
       "    </tr>\n",
       "    <tr>\n",
       "      <th>3040</th>\n",
       "      <td>3041</td>\n",
       "      <td>US-2017-147991</td>\n",
       "      <td>2017-05-05</td>\n",
       "      <td>2017-05-09</td>\n",
       "      <td>Standard Class</td>\n",
       "      <td>ZD-21925</td>\n",
       "      <td>Zuschuss Donatelli</td>\n",
       "      <td>Consumer</td>\n",
       "      <td>United States</td>\n",
       "      <td>Chattanooga</td>\n",
       "      <td>...</td>\n",
       "      <td>37421.0</td>\n",
       "      <td>South</td>\n",
       "      <td>FUR-FU-10004270</td>\n",
       "      <td>Furniture</td>\n",
       "      <td>Furnishings</td>\n",
       "      <td>Eldon Image Series Desk Accessories, Burgundy</td>\n",
       "      <td>16.720</td>\n",
       "      <td>5</td>\n",
       "      <td>0.2</td>\n",
       "      <td>3.3440</td>\n",
       "    </tr>\n",
       "    <tr>\n",
       "      <th>20</th>\n",
       "      <td>21</td>\n",
       "      <td>CA-2015-143336</td>\n",
       "      <td>2015-08-27</td>\n",
       "      <td>2015-09-01</td>\n",
       "      <td>Second Class</td>\n",
       "      <td>ZD-21925</td>\n",
       "      <td>Zuschuss Donatelli</td>\n",
       "      <td>Consumer</td>\n",
       "      <td>United States</td>\n",
       "      <td>San Francisco</td>\n",
       "      <td>...</td>\n",
       "      <td>94109.0</td>\n",
       "      <td>West</td>\n",
       "      <td>OFF-BI-10002215</td>\n",
       "      <td>Office Supplies</td>\n",
       "      <td>Binders</td>\n",
       "      <td>Wilson Jones Hanging View Binder, White, 1\"</td>\n",
       "      <td>22.720</td>\n",
       "      <td>4</td>\n",
       "      <td>0.2</td>\n",
       "      <td>7.3840</td>\n",
       "    </tr>\n",
       "    <tr>\n",
       "      <th>18</th>\n",
       "      <td>19</td>\n",
       "      <td>CA-2015-143336</td>\n",
       "      <td>2015-08-27</td>\n",
       "      <td>2015-09-01</td>\n",
       "      <td>Second Class</td>\n",
       "      <td>ZD-21925</td>\n",
       "      <td>Zuschuss Donatelli</td>\n",
       "      <td>Consumer</td>\n",
       "      <td>United States</td>\n",
       "      <td>San Francisco</td>\n",
       "      <td>...</td>\n",
       "      <td>94109.0</td>\n",
       "      <td>West</td>\n",
       "      <td>OFF-AR-10003056</td>\n",
       "      <td>Office Supplies</td>\n",
       "      <td>Art</td>\n",
       "      <td>Newell 341</td>\n",
       "      <td>8.560</td>\n",
       "      <td>2</td>\n",
       "      <td>0.0</td>\n",
       "      <td>2.4824</td>\n",
       "    </tr>\n",
       "    <tr>\n",
       "      <th>3814</th>\n",
       "      <td>3815</td>\n",
       "      <td>CA-2017-152471</td>\n",
       "      <td>2017-07-08</td>\n",
       "      <td>2017-07-08</td>\n",
       "      <td>Same Day</td>\n",
       "      <td>ZD-21925</td>\n",
       "      <td>Zuschuss Donatelli</td>\n",
       "      <td>Consumer</td>\n",
       "      <td>United States</td>\n",
       "      <td>Jacksonville</td>\n",
       "      <td>...</td>\n",
       "      <td>32216.0</td>\n",
       "      <td>South</td>\n",
       "      <td>TEC-PH-10002824</td>\n",
       "      <td>Technology</td>\n",
       "      <td>Phones</td>\n",
       "      <td>Jabra SPEAK 410 Multidevice Speakerphone</td>\n",
       "      <td>823.960</td>\n",
       "      <td>5</td>\n",
       "      <td>0.2</td>\n",
       "      <td>51.4975</td>\n",
       "    </tr>\n",
       "    <tr>\n",
       "      <th>5898</th>\n",
       "      <td>5899</td>\n",
       "      <td>CA-2017-167682</td>\n",
       "      <td>2017-04-03</td>\n",
       "      <td>2017-04-09</td>\n",
       "      <td>Standard Class</td>\n",
       "      <td>ZD-21925</td>\n",
       "      <td>Zuschuss Donatelli</td>\n",
       "      <td>Consumer</td>\n",
       "      <td>United States</td>\n",
       "      <td>Richmond</td>\n",
       "      <td>...</td>\n",
       "      <td>47374.0</td>\n",
       "      <td>Central</td>\n",
       "      <td>TEC-PH-10000673</td>\n",
       "      <td>Technology</td>\n",
       "      <td>Phones</td>\n",
       "      <td>Plantronics Voyager Pro HD - Bluetooth Headset</td>\n",
       "      <td>259.960</td>\n",
       "      <td>4</td>\n",
       "      <td>0.0</td>\n",
       "      <td>124.7808</td>\n",
       "    </tr>\n",
       "  </tbody>\n",
       "</table>\n",
       "<p>9994 rows × 21 columns</p>\n",
       "</div>"
      ],
      "text/plain": [
       "      Row ID        Order ID Order Date  Ship Date       Ship Mode  \\\n",
       "8801    8802  CA-2017-140935 2017-11-10 2017-11-12     First Class   \n",
       "4961    4962  CA-2015-156587 2015-03-07 2015-03-08     First Class   \n",
       "4962    4963  CA-2015-156587 2015-03-07 2015-03-08     First Class   \n",
       "4963    4964  CA-2015-156587 2015-03-07 2015-03-08     First Class   \n",
       "8802    8803  CA-2017-140935 2017-11-10 2017-11-12     First Class   \n",
       "...      ...             ...        ...        ...             ...   \n",
       "3040    3041  US-2017-147991 2017-05-05 2017-05-09  Standard Class   \n",
       "20        21  CA-2015-143336 2015-08-27 2015-09-01    Second Class   \n",
       "18        19  CA-2015-143336 2015-08-27 2015-09-01    Second Class   \n",
       "3814    3815  CA-2017-152471 2017-07-08 2017-07-08        Same Day   \n",
       "5898    5899  CA-2017-167682 2017-04-03 2017-04-09  Standard Class   \n",
       "\n",
       "     Customer ID       Customer Name   Segment        Country           City  \\\n",
       "8801    AB-10015       Aaron Bergman  Consumer  United States  Oklahoma City   \n",
       "4961    AB-10015       Aaron Bergman  Consumer  United States        Seattle   \n",
       "4962    AB-10015       Aaron Bergman  Consumer  United States        Seattle   \n",
       "4963    AB-10015       Aaron Bergman  Consumer  United States        Seattle   \n",
       "8802    AB-10015       Aaron Bergman  Consumer  United States  Oklahoma City   \n",
       "...          ...                 ...       ...            ...            ...   \n",
       "3040    ZD-21925  Zuschuss Donatelli  Consumer  United States    Chattanooga   \n",
       "20      ZD-21925  Zuschuss Donatelli  Consumer  United States  San Francisco   \n",
       "18      ZD-21925  Zuschuss Donatelli  Consumer  United States  San Francisco   \n",
       "3814    ZD-21925  Zuschuss Donatelli  Consumer  United States   Jacksonville   \n",
       "5898    ZD-21925  Zuschuss Donatelli  Consumer  United States       Richmond   \n",
       "\n",
       "      ... Postal Code   Region       Product ID         Category Sub-Category  \\\n",
       "8801  ...     73120.0  Central  TEC-PH-10000562       Technology       Phones   \n",
       "4961  ...     98103.0     West  FUR-CH-10004477        Furniture       Chairs   \n",
       "4962  ...     98103.0     West  OFF-AR-10001427  Office Supplies          Art   \n",
       "4963  ...     98103.0     West  OFF-ST-10002344  Office Supplies      Storage   \n",
       "8802  ...     73120.0  Central  FUR-BO-10003966        Furniture    Bookcases   \n",
       "...   ...         ...      ...              ...              ...          ...   \n",
       "3040  ...     37421.0    South  FUR-FU-10004270        Furniture  Furnishings   \n",
       "20    ...     94109.0     West  OFF-BI-10002215  Office Supplies      Binders   \n",
       "18    ...     94109.0     West  OFF-AR-10003056  Office Supplies          Art   \n",
       "3814  ...     32216.0    South  TEC-PH-10002824       Technology       Phones   \n",
       "5898  ...     47374.0  Central  TEC-PH-10000673       Technology       Phones   \n",
       "\n",
       "                                           Product Name    Sales  Quantity  \\\n",
       "8801                                   Samsung Convoy 3  221.980         2   \n",
       "4961         Global Push Button Manager's Chair, Indigo   48.712         1   \n",
       "4962                                         Newell 330   17.940         3   \n",
       "4963            Carina 42\"Hx23 3/4\"W Media Storage Unit  242.940         3   \n",
       "8802  Sauder Facets Collection Library, Sky Alder Fi...  341.960         2   \n",
       "...                                                 ...      ...       ...   \n",
       "3040      Eldon Image Series Desk Accessories, Burgundy   16.720         5   \n",
       "20          Wilson Jones Hanging View Binder, White, 1\"   22.720         4   \n",
       "18                                           Newell 341    8.560         2   \n",
       "3814           Jabra SPEAK 410 Multidevice Speakerphone  823.960         5   \n",
       "5898     Plantronics Voyager Pro HD - Bluetooth Headset  259.960         4   \n",
       "\n",
       "      Discount    Profit  \n",
       "8801       0.0   62.1544  \n",
       "4961       0.2    5.4801  \n",
       "4962       0.0    4.6644  \n",
       "4963       0.0    4.8588  \n",
       "8802       0.0   54.7136  \n",
       "...        ...       ...  \n",
       "3040       0.2    3.3440  \n",
       "20         0.2    7.3840  \n",
       "18         0.0    2.4824  \n",
       "3814       0.2   51.4975  \n",
       "5898       0.0  124.7808  \n",
       "\n",
       "[9994 rows x 21 columns]"
      ]
     },
     "execution_count": 62,
     "metadata": {},
     "output_type": "execute_result"
    }
   ],
   "source": [
    "df.sort_values(by='Customer Name', ascending=True)"
   ]
  },
  {
   "cell_type": "code",
   "execution_count": 65,
   "metadata": {},
   "outputs": [
    {
     "data": {
      "text/html": [
       "<div>\n",
       "<style scoped>\n",
       "    .dataframe tbody tr th:only-of-type {\n",
       "        vertical-align: middle;\n",
       "    }\n",
       "\n",
       "    .dataframe tbody tr th {\n",
       "        vertical-align: top;\n",
       "    }\n",
       "\n",
       "    .dataframe thead th {\n",
       "        text-align: right;\n",
       "    }\n",
       "</style>\n",
       "<table border=\"1\" class=\"dataframe\">\n",
       "  <thead>\n",
       "    <tr style=\"text-align: right;\">\n",
       "      <th></th>\n",
       "      <th>Row ID</th>\n",
       "      <th>Order ID</th>\n",
       "      <th>Order Date</th>\n",
       "      <th>Ship Date</th>\n",
       "      <th>Ship Mode</th>\n",
       "      <th>Customer ID</th>\n",
       "      <th>Customer Name</th>\n",
       "      <th>Segment</th>\n",
       "      <th>Country</th>\n",
       "      <th>City</th>\n",
       "      <th>...</th>\n",
       "      <th>Postal Code</th>\n",
       "      <th>Region</th>\n",
       "      <th>Product ID</th>\n",
       "      <th>Category</th>\n",
       "      <th>Sub-Category</th>\n",
       "      <th>Product Name</th>\n",
       "      <th>Sales</th>\n",
       "      <th>Quantity</th>\n",
       "      <th>Discount</th>\n",
       "      <th>Profit</th>\n",
       "    </tr>\n",
       "  </thead>\n",
       "  <tbody>\n",
       "    <tr>\n",
       "      <th>8222</th>\n",
       "      <td>8223</td>\n",
       "      <td>CA-2015-152905</td>\n",
       "      <td>2015-02-18</td>\n",
       "      <td>2015-02-24</td>\n",
       "      <td>Standard Class</td>\n",
       "      <td>AB-10015</td>\n",
       "      <td>Aaron Bergman</td>\n",
       "      <td>Consumer</td>\n",
       "      <td>United States</td>\n",
       "      <td>Arlington</td>\n",
       "      <td>...</td>\n",
       "      <td>76017.0</td>\n",
       "      <td>Central</td>\n",
       "      <td>OFF-ST-10000321</td>\n",
       "      <td>Office Supplies</td>\n",
       "      <td>Storage</td>\n",
       "      <td>Akro Stacking Bins</td>\n",
       "      <td>12.624</td>\n",
       "      <td>2</td>\n",
       "      <td>0.2</td>\n",
       "      <td>-2.5248</td>\n",
       "    </tr>\n",
       "    <tr>\n",
       "      <th>8801</th>\n",
       "      <td>8802</td>\n",
       "      <td>CA-2017-140935</td>\n",
       "      <td>2017-11-10</td>\n",
       "      <td>2017-11-12</td>\n",
       "      <td>First Class</td>\n",
       "      <td>AB-10015</td>\n",
       "      <td>Aaron Bergman</td>\n",
       "      <td>Consumer</td>\n",
       "      <td>United States</td>\n",
       "      <td>Oklahoma City</td>\n",
       "      <td>...</td>\n",
       "      <td>73120.0</td>\n",
       "      <td>Central</td>\n",
       "      <td>TEC-PH-10000562</td>\n",
       "      <td>Technology</td>\n",
       "      <td>Phones</td>\n",
       "      <td>Samsung Convoy 3</td>\n",
       "      <td>221.980</td>\n",
       "      <td>2</td>\n",
       "      <td>0.0</td>\n",
       "      <td>62.1544</td>\n",
       "    </tr>\n",
       "    <tr>\n",
       "      <th>8802</th>\n",
       "      <td>8803</td>\n",
       "      <td>CA-2017-140935</td>\n",
       "      <td>2017-11-10</td>\n",
       "      <td>2017-11-12</td>\n",
       "      <td>First Class</td>\n",
       "      <td>AB-10015</td>\n",
       "      <td>Aaron Bergman</td>\n",
       "      <td>Consumer</td>\n",
       "      <td>United States</td>\n",
       "      <td>Oklahoma City</td>\n",
       "      <td>...</td>\n",
       "      <td>73120.0</td>\n",
       "      <td>Central</td>\n",
       "      <td>FUR-BO-10003966</td>\n",
       "      <td>Furniture</td>\n",
       "      <td>Bookcases</td>\n",
       "      <td>Sauder Facets Collection Library, Sky Alder Fi...</td>\n",
       "      <td>341.960</td>\n",
       "      <td>2</td>\n",
       "      <td>0.0</td>\n",
       "      <td>54.7136</td>\n",
       "    </tr>\n",
       "    <tr>\n",
       "      <th>4961</th>\n",
       "      <td>4962</td>\n",
       "      <td>CA-2015-156587</td>\n",
       "      <td>2015-03-07</td>\n",
       "      <td>2015-03-08</td>\n",
       "      <td>First Class</td>\n",
       "      <td>AB-10015</td>\n",
       "      <td>Aaron Bergman</td>\n",
       "      <td>Consumer</td>\n",
       "      <td>United States</td>\n",
       "      <td>Seattle</td>\n",
       "      <td>...</td>\n",
       "      <td>98103.0</td>\n",
       "      <td>West</td>\n",
       "      <td>FUR-CH-10004477</td>\n",
       "      <td>Furniture</td>\n",
       "      <td>Chairs</td>\n",
       "      <td>Global Push Button Manager's Chair, Indigo</td>\n",
       "      <td>48.712</td>\n",
       "      <td>1</td>\n",
       "      <td>0.2</td>\n",
       "      <td>5.4801</td>\n",
       "    </tr>\n",
       "    <tr>\n",
       "      <th>4962</th>\n",
       "      <td>4963</td>\n",
       "      <td>CA-2015-156587</td>\n",
       "      <td>2015-03-07</td>\n",
       "      <td>2015-03-08</td>\n",
       "      <td>First Class</td>\n",
       "      <td>AB-10015</td>\n",
       "      <td>Aaron Bergman</td>\n",
       "      <td>Consumer</td>\n",
       "      <td>United States</td>\n",
       "      <td>Seattle</td>\n",
       "      <td>...</td>\n",
       "      <td>98103.0</td>\n",
       "      <td>West</td>\n",
       "      <td>OFF-AR-10001427</td>\n",
       "      <td>Office Supplies</td>\n",
       "      <td>Art</td>\n",
       "      <td>Newell 330</td>\n",
       "      <td>17.940</td>\n",
       "      <td>3</td>\n",
       "      <td>0.0</td>\n",
       "      <td>4.6644</td>\n",
       "    </tr>\n",
       "    <tr>\n",
       "      <th>...</th>\n",
       "      <td>...</td>\n",
       "      <td>...</td>\n",
       "      <td>...</td>\n",
       "      <td>...</td>\n",
       "      <td>...</td>\n",
       "      <td>...</td>\n",
       "      <td>...</td>\n",
       "      <td>...</td>\n",
       "      <td>...</td>\n",
       "      <td>...</td>\n",
       "      <td>...</td>\n",
       "      <td>...</td>\n",
       "      <td>...</td>\n",
       "      <td>...</td>\n",
       "      <td>...</td>\n",
       "      <td>...</td>\n",
       "      <td>...</td>\n",
       "      <td>...</td>\n",
       "      <td>...</td>\n",
       "      <td>...</td>\n",
       "      <td>...</td>\n",
       "    </tr>\n",
       "    <tr>\n",
       "      <th>5897</th>\n",
       "      <td>5898</td>\n",
       "      <td>CA-2017-167682</td>\n",
       "      <td>2017-04-03</td>\n",
       "      <td>2017-04-09</td>\n",
       "      <td>Standard Class</td>\n",
       "      <td>ZD-21925</td>\n",
       "      <td>Zuschuss Donatelli</td>\n",
       "      <td>Consumer</td>\n",
       "      <td>United States</td>\n",
       "      <td>Richmond</td>\n",
       "      <td>...</td>\n",
       "      <td>47374.0</td>\n",
       "      <td>Central</td>\n",
       "      <td>FUR-FU-10003799</td>\n",
       "      <td>Furniture</td>\n",
       "      <td>Furnishings</td>\n",
       "      <td>Seth Thomas 13 1/2\" Wall Clock</td>\n",
       "      <td>71.120</td>\n",
       "      <td>4</td>\n",
       "      <td>0.0</td>\n",
       "      <td>22.0472</td>\n",
       "    </tr>\n",
       "    <tr>\n",
       "      <th>5898</th>\n",
       "      <td>5899</td>\n",
       "      <td>CA-2017-167682</td>\n",
       "      <td>2017-04-03</td>\n",
       "      <td>2017-04-09</td>\n",
       "      <td>Standard Class</td>\n",
       "      <td>ZD-21925</td>\n",
       "      <td>Zuschuss Donatelli</td>\n",
       "      <td>Consumer</td>\n",
       "      <td>United States</td>\n",
       "      <td>Richmond</td>\n",
       "      <td>...</td>\n",
       "      <td>47374.0</td>\n",
       "      <td>Central</td>\n",
       "      <td>TEC-PH-10000673</td>\n",
       "      <td>Technology</td>\n",
       "      <td>Phones</td>\n",
       "      <td>Plantronics Voyager Pro HD - Bluetooth Headset</td>\n",
       "      <td>259.960</td>\n",
       "      <td>4</td>\n",
       "      <td>0.0</td>\n",
       "      <td>124.7808</td>\n",
       "    </tr>\n",
       "    <tr>\n",
       "      <th>18</th>\n",
       "      <td>19</td>\n",
       "      <td>CA-2015-143336</td>\n",
       "      <td>2015-08-27</td>\n",
       "      <td>2015-09-01</td>\n",
       "      <td>Second Class</td>\n",
       "      <td>ZD-21925</td>\n",
       "      <td>Zuschuss Donatelli</td>\n",
       "      <td>Consumer</td>\n",
       "      <td>United States</td>\n",
       "      <td>San Francisco</td>\n",
       "      <td>...</td>\n",
       "      <td>94109.0</td>\n",
       "      <td>West</td>\n",
       "      <td>OFF-AR-10003056</td>\n",
       "      <td>Office Supplies</td>\n",
       "      <td>Art</td>\n",
       "      <td>Newell 341</td>\n",
       "      <td>8.560</td>\n",
       "      <td>2</td>\n",
       "      <td>0.0</td>\n",
       "      <td>2.4824</td>\n",
       "    </tr>\n",
       "    <tr>\n",
       "      <th>19</th>\n",
       "      <td>20</td>\n",
       "      <td>CA-2015-143336</td>\n",
       "      <td>2015-08-27</td>\n",
       "      <td>2015-09-01</td>\n",
       "      <td>Second Class</td>\n",
       "      <td>ZD-21925</td>\n",
       "      <td>Zuschuss Donatelli</td>\n",
       "      <td>Consumer</td>\n",
       "      <td>United States</td>\n",
       "      <td>San Francisco</td>\n",
       "      <td>...</td>\n",
       "      <td>94109.0</td>\n",
       "      <td>West</td>\n",
       "      <td>TEC-PH-10001949</td>\n",
       "      <td>Technology</td>\n",
       "      <td>Phones</td>\n",
       "      <td>Cisco SPA 501G IP Phone</td>\n",
       "      <td>213.480</td>\n",
       "      <td>3</td>\n",
       "      <td>0.2</td>\n",
       "      <td>16.0110</td>\n",
       "    </tr>\n",
       "    <tr>\n",
       "      <th>20</th>\n",
       "      <td>21</td>\n",
       "      <td>CA-2015-143336</td>\n",
       "      <td>2015-08-27</td>\n",
       "      <td>2015-09-01</td>\n",
       "      <td>Second Class</td>\n",
       "      <td>ZD-21925</td>\n",
       "      <td>Zuschuss Donatelli</td>\n",
       "      <td>Consumer</td>\n",
       "      <td>United States</td>\n",
       "      <td>San Francisco</td>\n",
       "      <td>...</td>\n",
       "      <td>94109.0</td>\n",
       "      <td>West</td>\n",
       "      <td>OFF-BI-10002215</td>\n",
       "      <td>Office Supplies</td>\n",
       "      <td>Binders</td>\n",
       "      <td>Wilson Jones Hanging View Binder, White, 1\"</td>\n",
       "      <td>22.720</td>\n",
       "      <td>4</td>\n",
       "      <td>0.2</td>\n",
       "      <td>7.3840</td>\n",
       "    </tr>\n",
       "  </tbody>\n",
       "</table>\n",
       "<p>9994 rows × 21 columns</p>\n",
       "</div>"
      ],
      "text/plain": [
       "      Row ID        Order ID Order Date  Ship Date       Ship Mode  \\\n",
       "8222    8223  CA-2015-152905 2015-02-18 2015-02-24  Standard Class   \n",
       "8801    8802  CA-2017-140935 2017-11-10 2017-11-12     First Class   \n",
       "8802    8803  CA-2017-140935 2017-11-10 2017-11-12     First Class   \n",
       "4961    4962  CA-2015-156587 2015-03-07 2015-03-08     First Class   \n",
       "4962    4963  CA-2015-156587 2015-03-07 2015-03-08     First Class   \n",
       "...      ...             ...        ...        ...             ...   \n",
       "5897    5898  CA-2017-167682 2017-04-03 2017-04-09  Standard Class   \n",
       "5898    5899  CA-2017-167682 2017-04-03 2017-04-09  Standard Class   \n",
       "18        19  CA-2015-143336 2015-08-27 2015-09-01    Second Class   \n",
       "19        20  CA-2015-143336 2015-08-27 2015-09-01    Second Class   \n",
       "20        21  CA-2015-143336 2015-08-27 2015-09-01    Second Class   \n",
       "\n",
       "     Customer ID       Customer Name   Segment        Country           City  \\\n",
       "8222    AB-10015       Aaron Bergman  Consumer  United States      Arlington   \n",
       "8801    AB-10015       Aaron Bergman  Consumer  United States  Oklahoma City   \n",
       "8802    AB-10015       Aaron Bergman  Consumer  United States  Oklahoma City   \n",
       "4961    AB-10015       Aaron Bergman  Consumer  United States        Seattle   \n",
       "4962    AB-10015       Aaron Bergman  Consumer  United States        Seattle   \n",
       "...          ...                 ...       ...            ...            ...   \n",
       "5897    ZD-21925  Zuschuss Donatelli  Consumer  United States       Richmond   \n",
       "5898    ZD-21925  Zuschuss Donatelli  Consumer  United States       Richmond   \n",
       "18      ZD-21925  Zuschuss Donatelli  Consumer  United States  San Francisco   \n",
       "19      ZD-21925  Zuschuss Donatelli  Consumer  United States  San Francisco   \n",
       "20      ZD-21925  Zuschuss Donatelli  Consumer  United States  San Francisco   \n",
       "\n",
       "      ... Postal Code   Region       Product ID         Category Sub-Category  \\\n",
       "8222  ...     76017.0  Central  OFF-ST-10000321  Office Supplies      Storage   \n",
       "8801  ...     73120.0  Central  TEC-PH-10000562       Technology       Phones   \n",
       "8802  ...     73120.0  Central  FUR-BO-10003966        Furniture    Bookcases   \n",
       "4961  ...     98103.0     West  FUR-CH-10004477        Furniture       Chairs   \n",
       "4962  ...     98103.0     West  OFF-AR-10001427  Office Supplies          Art   \n",
       "...   ...         ...      ...              ...              ...          ...   \n",
       "5897  ...     47374.0  Central  FUR-FU-10003799        Furniture  Furnishings   \n",
       "5898  ...     47374.0  Central  TEC-PH-10000673       Technology       Phones   \n",
       "18    ...     94109.0     West  OFF-AR-10003056  Office Supplies          Art   \n",
       "19    ...     94109.0     West  TEC-PH-10001949       Technology       Phones   \n",
       "20    ...     94109.0     West  OFF-BI-10002215  Office Supplies      Binders   \n",
       "\n",
       "                                           Product Name    Sales  Quantity  \\\n",
       "8222                                 Akro Stacking Bins   12.624         2   \n",
       "8801                                   Samsung Convoy 3  221.980         2   \n",
       "8802  Sauder Facets Collection Library, Sky Alder Fi...  341.960         2   \n",
       "4961         Global Push Button Manager's Chair, Indigo   48.712         1   \n",
       "4962                                         Newell 330   17.940         3   \n",
       "...                                                 ...      ...       ...   \n",
       "5897                     Seth Thomas 13 1/2\" Wall Clock   71.120         4   \n",
       "5898     Plantronics Voyager Pro HD - Bluetooth Headset  259.960         4   \n",
       "18                                           Newell 341    8.560         2   \n",
       "19                              Cisco SPA 501G IP Phone  213.480         3   \n",
       "20          Wilson Jones Hanging View Binder, White, 1\"   22.720         4   \n",
       "\n",
       "      Discount    Profit  \n",
       "8222       0.2   -2.5248  \n",
       "8801       0.0   62.1544  \n",
       "8802       0.0   54.7136  \n",
       "4961       0.2    5.4801  \n",
       "4962       0.0    4.6644  \n",
       "...        ...       ...  \n",
       "5897       0.0   22.0472  \n",
       "5898       0.0  124.7808  \n",
       "18         0.0    2.4824  \n",
       "19         0.2   16.0110  \n",
       "20         0.2    7.3840  \n",
       "\n",
       "[9994 rows x 21 columns]"
      ]
     },
     "execution_count": 65,
     "metadata": {},
     "output_type": "execute_result"
    }
   ],
   "source": [
    "df.sort_values(by=['Customer Name', 'City'])"
   ]
  },
  {
   "cell_type": "code",
   "execution_count": null,
   "metadata": {},
   "outputs": [],
   "source": []
  },
  {
   "cell_type": "code",
   "execution_count": 66,
   "metadata": {},
   "outputs": [],
   "source": [
    "import seaborn as sns"
   ]
  },
  {
   "cell_type": "code",
   "execution_count": 67,
   "metadata": {},
   "outputs": [],
   "source": [
    "df = sns.load_dataset('tips')"
   ]
  },
  {
   "cell_type": "code",
   "execution_count": 69,
   "metadata": {},
   "outputs": [
    {
     "data": {
      "text/html": [
       "<div>\n",
       "<style scoped>\n",
       "    .dataframe tbody tr th:only-of-type {\n",
       "        vertical-align: middle;\n",
       "    }\n",
       "\n",
       "    .dataframe tbody tr th {\n",
       "        vertical-align: top;\n",
       "    }\n",
       "\n",
       "    .dataframe thead th {\n",
       "        text-align: right;\n",
       "    }\n",
       "</style>\n",
       "<table border=\"1\" class=\"dataframe\">\n",
       "  <thead>\n",
       "    <tr style=\"text-align: right;\">\n",
       "      <th></th>\n",
       "      <th>total_bill</th>\n",
       "      <th>tip</th>\n",
       "      <th>sex</th>\n",
       "      <th>smoker</th>\n",
       "      <th>day</th>\n",
       "      <th>time</th>\n",
       "      <th>size</th>\n",
       "    </tr>\n",
       "  </thead>\n",
       "  <tbody>\n",
       "    <tr>\n",
       "      <th>0</th>\n",
       "      <td>16.99</td>\n",
       "      <td>1.01</td>\n",
       "      <td>Female</td>\n",
       "      <td>No</td>\n",
       "      <td>Sun</td>\n",
       "      <td>Dinner</td>\n",
       "      <td>2</td>\n",
       "    </tr>\n",
       "    <tr>\n",
       "      <th>1</th>\n",
       "      <td>10.34</td>\n",
       "      <td>1.66</td>\n",
       "      <td>Male</td>\n",
       "      <td>No</td>\n",
       "      <td>Sun</td>\n",
       "      <td>Dinner</td>\n",
       "      <td>3</td>\n",
       "    </tr>\n",
       "    <tr>\n",
       "      <th>2</th>\n",
       "      <td>21.01</td>\n",
       "      <td>3.50</td>\n",
       "      <td>Male</td>\n",
       "      <td>No</td>\n",
       "      <td>Sun</td>\n",
       "      <td>Dinner</td>\n",
       "      <td>3</td>\n",
       "    </tr>\n",
       "    <tr>\n",
       "      <th>3</th>\n",
       "      <td>23.68</td>\n",
       "      <td>3.31</td>\n",
       "      <td>Male</td>\n",
       "      <td>No</td>\n",
       "      <td>Sun</td>\n",
       "      <td>Dinner</td>\n",
       "      <td>2</td>\n",
       "    </tr>\n",
       "    <tr>\n",
       "      <th>4</th>\n",
       "      <td>24.59</td>\n",
       "      <td>3.61</td>\n",
       "      <td>Female</td>\n",
       "      <td>No</td>\n",
       "      <td>Sun</td>\n",
       "      <td>Dinner</td>\n",
       "      <td>4</td>\n",
       "    </tr>\n",
       "  </tbody>\n",
       "</table>\n",
       "</div>"
      ],
      "text/plain": [
       "   total_bill   tip     sex smoker  day    time  size\n",
       "0       16.99  1.01  Female     No  Sun  Dinner     2\n",
       "1       10.34  1.66    Male     No  Sun  Dinner     3\n",
       "2       21.01  3.50    Male     No  Sun  Dinner     3\n",
       "3       23.68  3.31    Male     No  Sun  Dinner     2\n",
       "4       24.59  3.61  Female     No  Sun  Dinner     4"
      ]
     },
     "execution_count": 69,
     "metadata": {},
     "output_type": "execute_result"
    }
   ],
   "source": [
    "df.head()"
   ]
  },
  {
   "cell_type": "code",
   "execution_count": 71,
   "metadata": {},
   "outputs": [
    {
     "name": "stderr",
     "output_type": "stream",
     "text": [
      "/Users/Ganesh/anaconda3/lib/python3.6/site-packages/ipykernel_launcher.py:1: FutureWarning: `Series.plot()` should not be called with positional arguments, only keyword arguments. The order of positional arguments will change in the future. Use `Series.plot(kind='bar')` instead of `Series.plot('bar',)`.\n",
      "  \"\"\"Entry point for launching an IPython kernel.\n"
     ]
    },
    {
     "data": {
      "text/plain": [
       "<matplotlib.axes._subplots.AxesSubplot at 0x12216eda0>"
      ]
     },
     "execution_count": 71,
     "metadata": {},
     "output_type": "execute_result"
    },
    {
     "data": {
      "image/png": "[encoded data removed]",
      "text/plain": [
       "<Figure size 432x288 with 1 Axes>"
      ]
     },
     "metadata": {},
     "output_type": "display_data"
    }
   ],
   "source": [
    "df['sex'].value_counts().plot('bar')"
   ]
  },
  {
   "cell_type": "code",
   "execution_count": 72,
   "metadata": {},
   "outputs": [
    {
     "data": {
      "text/html": [
       "<div>\n",
       "<style scoped>\n",
       "    .dataframe tbody tr th:only-of-type {\n",
       "        vertical-align: middle;\n",
       "    }\n",
       "\n",
       "    .dataframe tbody tr th {\n",
       "        vertical-align: top;\n",
       "    }\n",
       "\n",
       "    .dataframe thead th {\n",
       "        text-align: right;\n",
       "    }\n",
       "</style>\n",
       "<table border=\"1\" class=\"dataframe\">\n",
       "  <thead>\n",
       "    <tr style=\"text-align: right;\">\n",
       "      <th></th>\n",
       "      <th>total_bill</th>\n",
       "      <th>tip</th>\n",
       "      <th>size</th>\n",
       "    </tr>\n",
       "  </thead>\n",
       "  <tbody>\n",
       "    <tr>\n",
       "      <th>count</th>\n",
       "      <td>244.000000</td>\n",
       "      <td>244.000000</td>\n",
       "      <td>244.000000</td>\n",
       "    </tr>\n",
       "    <tr>\n",
       "      <th>mean</th>\n",
       "      <td>19.785943</td>\n",
       "      <td>2.998279</td>\n",
       "      <td>2.569672</td>\n",
       "    </tr>\n",
       "    <tr>\n",
       "      <th>std</th>\n",
       "      <td>8.902412</td>\n",
       "      <td>1.383638</td>\n",
       "      <td>0.951100</td>\n",
       "    </tr>\n",
       "    <tr>\n",
       "      <th>min</th>\n",
       "      <td>3.070000</td>\n",
       "      <td>1.000000</td>\n",
       "      <td>1.000000</td>\n",
       "    </tr>\n",
       "    <tr>\n",
       "      <th>25%</th>\n",
       "      <td>13.347500</td>\n",
       "      <td>2.000000</td>\n",
       "      <td>2.000000</td>\n",
       "    </tr>\n",
       "    <tr>\n",
       "      <th>50%</th>\n",
       "      <td>17.795000</td>\n",
       "      <td>2.900000</td>\n",
       "      <td>2.000000</td>\n",
       "    </tr>\n",
       "    <tr>\n",
       "      <th>75%</th>\n",
       "      <td>24.127500</td>\n",
       "      <td>3.562500</td>\n",
       "      <td>3.000000</td>\n",
       "    </tr>\n",
       "    <tr>\n",
       "      <th>max</th>\n",
       "      <td>50.810000</td>\n",
       "      <td>10.000000</td>\n",
       "      <td>6.000000</td>\n",
       "    </tr>\n",
       "  </tbody>\n",
       "</table>\n",
       "</div>"
      ],
      "text/plain": [
       "       total_bill         tip        size\n",
       "count  244.000000  244.000000  244.000000\n",
       "mean    19.785943    2.998279    2.569672\n",
       "std      8.902412    1.383638    0.951100\n",
       "min      3.070000    1.000000    1.000000\n",
       "25%     13.347500    2.000000    2.000000\n",
       "50%     17.795000    2.900000    2.000000\n",
       "75%     24.127500    3.562500    3.000000\n",
       "max     50.810000   10.000000    6.000000"
      ]
     },
     "execution_count": 72,
     "metadata": {},
     "output_type": "execute_result"
    }
   ],
   "source": [
    "df.describe()"
   ]
  },
  {
   "cell_type": "code",
   "execution_count": 73,
   "metadata": {},
   "outputs": [
    {
     "data": {
      "text/plain": [
       "<matplotlib.axes._subplots.AxesSubplot at 0x121bd4358>"
      ]
     },
     "execution_count": 73,
     "metadata": {},
     "output_type": "execute_result"
    },
    {
     "data": {
      "image/png": "[encoded data removed]",
      "text/plain": [
       "<Figure size 432x288 with 1 Axes>"
      ]
     },
     "metadata": {},
     "output_type": "display_data"
    }
   ],
   "source": [
    "sns.boxplot(x=df['total_bill'])"
   ]
  },
  {
   "cell_type": "code",
   "execution_count": null,
   "metadata": {},
   "outputs": [],
   "source": []
  },
  {
   "cell_type": "code",
   "execution_count": 81,
   "metadata": {},
   "outputs": [
    {
     "data": {
      "text/plain": [
       "([<matplotlib.patches.Wedge at 0x1223b8be0>,\n",
       "  <matplotlib.patches.Wedge at 0x1248fb2e8>,\n",
       "  <matplotlib.patches.Wedge at 0x1248fb9b0>,\n",
       "  <matplotlib.patches.Wedge at 0x1249130b8>,\n",
       "  <matplotlib.patches.Wedge at 0x124913780>],\n",
       " [Text(-0.6722910731854821, 0.8706461467870359, 'Pune'),\n",
       "  Text(-1.0692709930167916, -0.2581850954119632, 'New York'),\n",
       "  Text(-0.28599461023195805, -1.0621709292379784, 'Montreal'),\n",
       "  Text(0.9935428938397062, -0.4720937598619819, 'New Delhi'),\n",
       "  Text(0.6787410991165177, 0.9896011925872472, 'Chennai')],\n",
       " [Text(-0.36670422173753564, 0.4748978982474741, '20.93%'),\n",
       "  Text(-0.5832387234637044, -0.14082823386107082, '15.68%'),\n",
       "  Text(-0.15599706012652254, -0.5793659614025336, '18.41%'),\n",
       "  Text(0.5419324875489305, -0.2575056871974446, '25.85%'),\n",
       "  Text(0.3959323078179686, 0.5772673623425608, '19.14%')])"
      ]
     },
     "execution_count": 81,
     "metadata": {},
     "output_type": "execute_result"
    },
    {
     "data": {
      "image/png": "[encoded data removed]",
      "text/plain": [
       "<Figure size 432x288 with 1 Axes>"
      ]
     },
     "metadata": {},
     "output_type": "display_data"
    }
   ],
   "source": [
    "cities = ('Pune', 'New York', 'Montreal', 'New Delhi', 'Chennai')\n",
    "engineers = (315, 236, 277, 389, 288)\n",
    "explode = [0.0, 0.0, 0.0, 0.0, 0.1]\n",
    "plt.pie(engineers, labels=cities, explode=explode, autopct='%.2f%%', startangle=90)"
   ]
  },
  {
   "cell_type": "code",
   "execution_count": 91,
   "metadata": {},
   "outputs": [
    {
     "data": {
      "image/png": "[encoded data removed]",
      "text/plain": [
       "<Figure size 864x504 with 2 Axes>"
      ]
     },
     "metadata": {},
     "output_type": "display_data"
    }
   ],
   "source": [
    "cities = ('Pune', 'New York', 'Montreal', 'New Delhi', 'Chennai')\n",
    "engineers = (315, 236, 277, 389, 288)\n",
    "explode = [0.0, 0.0, 0.0, 0.0, 0.1]\n",
    "plt.figure(figsize=(12,7))\n",
    "plt.subplot(1,2,1)\n",
    "plt.pie(engineers, labels=cities, explode=explode, autopct='%.2f%%', startangle=90)\n",
    "plt.title('Chart #1')\n",
    "plt.subplot(1,2,2)\n",
    "cities = ('Pune', 'New York', 'Montreal', 'New Delhi', 'Chennai')\n",
    "engineers = (614, 236, 258, 539, 678)\n",
    "plt.pie(engineers, labels=cities, explode=explode, autopct='%.2f%%', startangle=90)\n",
    "plt.title('Chart #2')\n",
    "plt.savefig('/Users/Ganesh/Desktop/new_pie.jpeg')\n",
    "plt.show()"
   ]
  },
  {
   "cell_type": "code",
   "execution_count": 87,
   "metadata": {},
   "outputs": [
    {
     "data": {
      "text/plain": [
       "<Figure size 432x288 with 0 Axes>"
      ]
     },
     "metadata": {},
     "output_type": "display_data"
    }
   ],
   "source": [
    "plt.savefig('/Users/Ganesh/Desktop/new_pie.jpeg')"
   ]
  },
  {
   "cell_type": "code",
   "execution_count": null,
   "metadata": {},
   "outputs": [],
   "source": []
  },
  {
   "cell_type": "code",
   "execution_count": 93,
   "metadata": {},
   "outputs": [],
   "source": [
    "sal = np.array([100000, 90000, 102000, 98000, 75000, 65000, 107000, 110000, 120000])"
   ]
  },
  {
   "cell_type": "code",
   "execution_count": 94,
   "metadata": {},
   "outputs": [
    {
     "data": {
      "text/plain": [
       "96333.33333333333"
      ]
     },
     "execution_count": 94,
     "metadata": {},
     "output_type": "execute_result"
    }
   ],
   "source": [
    "sal.mean()"
   ]
  },
  {
   "cell_type": "code",
   "execution_count": 96,
   "metadata": {},
   "outputs": [
    {
     "data": {
      "text/plain": [
       "269727.2727272727"
      ]
     },
     "execution_count": 96,
     "metadata": {},
     "output_type": "execute_result"
    }
   ],
   "source": [
    "sal = np.array([100000, 90000, 102000, 98000, 75000, 65000, 107000, 110000, 120000, 1200000, 900000])\n",
    "sal.mean()"
   ]
  },
  {
   "cell_type": "code",
   "execution_count": 97,
   "metadata": {},
   "outputs": [],
   "source": [
    "sal = np.array([100000, 90000, 102000, 98000, 75000, 65000, 107000, 110000, 120000])"
   ]
  },
  {
   "cell_type": "code",
   "execution_count": 98,
   "metadata": {},
   "outputs": [
    {
     "data": {
      "text/plain": [
       "4.4"
      ]
     },
     "execution_count": 98,
     "metadata": {},
     "output_type": "execute_result"
    }
   ],
   "source": [
    "a = np.array([1,4,5,4,8])\n",
    "a.mean()"
   ]
  },
  {
   "cell_type": "code",
   "execution_count": 99,
   "metadata": {},
   "outputs": [],
   "source": [
    "# Variance --> Measure -- how spread out your data is\n",
    "# --> Average of sqaured differences from the mean\n",
    "diff_from_mean = a-4.4"
   ]
  },
  {
   "cell_type": "code",
   "execution_count": 100,
   "metadata": {},
   "outputs": [
    {
     "data": {
      "text/plain": [
       "array([-3.4, -0.4,  0.6, -0.4,  3.6])"
      ]
     },
     "execution_count": 100,
     "metadata": {},
     "output_type": "execute_result"
    }
   ],
   "source": [
    "diff_from_mean"
   ]
  },
  {
   "cell_type": "code",
   "execution_count": 101,
   "metadata": {},
   "outputs": [],
   "source": [
    "squared_diff = diff_from_mean*diff_from_mean"
   ]
  },
  {
   "cell_type": "code",
   "execution_count": 102,
   "metadata": {},
   "outputs": [
    {
     "data": {
      "text/plain": [
       "array([11.56,  0.16,  0.36,  0.16, 12.96])"
      ]
     },
     "execution_count": 102,
     "metadata": {},
     "output_type": "execute_result"
    }
   ],
   "source": [
    "squared_diff"
   ]
  },
  {
   "cell_type": "code",
   "execution_count": 111,
   "metadata": {},
   "outputs": [],
   "source": [
    "avg_of_squared_diff = squared_diff.sum() / 5"
   ]
  },
  {
   "cell_type": "code",
   "execution_count": 112,
   "metadata": {},
   "outputs": [
    {
     "data": {
      "text/plain": [
       "5.04"
      ]
     },
     "execution_count": 112,
     "metadata": {},
     "output_type": "execute_result"
    }
   ],
   "source": [
    "avg_of_squared_diff"
   ]
  },
  {
   "cell_type": "code",
   "execution_count": 115,
   "metadata": {},
   "outputs": [],
   "source": [
    "# direct using numoy function or stats \n",
    "v = a.var()"
   ]
  },
  {
   "cell_type": "code",
   "execution_count": 117,
   "metadata": {},
   "outputs": [],
   "source": [
    "from math import sqrt\n",
    "sd = sqrt(v)"
   ]
  },
  {
   "cell_type": "code",
   "execution_count": 118,
   "metadata": {},
   "outputs": [
    {
     "data": {
      "text/plain": [
       "2.244994432064365"
      ]
     },
     "execution_count": 118,
     "metadata": {},
     "output_type": "execute_result"
    }
   ],
   "source": [
    "sd"
   ]
  },
  {
   "cell_type": "code",
   "execution_count": 119,
   "metadata": {},
   "outputs": [
    {
     "data": {
      "text/plain": [
       "2.244994432064365"
      ]
     },
     "execution_count": 119,
     "metadata": {},
     "output_type": "execute_result"
    }
   ],
   "source": [
    "a.std()"
   ]
  },
  {
   "cell_type": "code",
   "execution_count": null,
   "metadata": {},
   "outputs": [],
   "source": [
    "import statistics"
   ]
  },
  {
   "cell_type": "code",
   "execution_count": 120,
   "metadata": {},
   "outputs": [],
   "source": [
    "# Measure of central tendency -- mean (balance point), median (middle point), mode (most frequent)\n",
    "\n",
    "# Measure of spread -- standard deviation, range (max-min)\n",
    "# Outliers -- number way outside the range -- Extreme values"
   ]
  },
  {
   "cell_type": "code",
   "execution_count": 121,
   "metadata": {},
   "outputs": [],
   "source": [
    "a = np.array([ 10, 100, 95, 99, 103, 97, 106, 99, 102, 501, 98, 96 ])"
   ]
  },
  {
   "cell_type": "code",
   "execution_count": 122,
   "metadata": {},
   "outputs": [
    {
     "data": {
      "text/plain": [
       "array([ 10, 100,  95,  99, 103,  97, 106,  99, 102, 501,  98,  96])"
      ]
     },
     "execution_count": 122,
     "metadata": {},
     "output_type": "execute_result"
    }
   ],
   "source": [
    "a"
   ]
  },
  {
   "cell_type": "code",
   "execution_count": 123,
   "metadata": {},
   "outputs": [],
   "source": [
    "# 10 and 501 --> outliers"
   ]
  },
  {
   "cell_type": "code",
   "execution_count": 128,
   "metadata": {},
   "outputs": [
    {
     "data": {
      "text/plain": [
       "<matplotlib.axes._subplots.AxesSubplot at 0x12486e710>"
      ]
     },
     "execution_count": 128,
     "metadata": {},
     "output_type": "execute_result"
    },
    {
     "data": {
      "image/png": "[encoded data removed]",
      "text/plain": [
       "<Figure size 432x288 with 1 Axes>"
      ]
     },
     "metadata": {},
     "output_type": "display_data"
    }
   ],
   "source": [
    "import seaborn as sns\n",
    "import matplotlib.pyplot as plt\n",
    "arr = np.array([ 70, 100, 95, 99, 103, 97, 106, 99, 102, 141, 98, 96 ])\n",
    "sns.boxplot(x=arr)"
   ]
  },
  {
   "cell_type": "code",
   "execution_count": 131,
   "metadata": {},
   "outputs": [
    {
     "data": {
      "text/plain": [
       "99.0"
      ]
     },
     "execution_count": 131,
     "metadata": {},
     "output_type": "execute_result"
    }
   ],
   "source": [
    "import statistics as stats\n",
    "stats.median(arr)"
   ]
  },
  {
   "cell_type": "code",
   "execution_count": 154,
   "metadata": {},
   "outputs": [],
   "source": [
    "incomes = np.random.normal(27000, 15000, 10000)"
   ]
  },
  {
   "cell_type": "code",
   "execution_count": 155,
   "metadata": {},
   "outputs": [
    {
     "data": {
      "text/plain": [
       "27139.85217315914"
      ]
     },
     "execution_count": 155,
     "metadata": {},
     "output_type": "execute_result"
    }
   ],
   "source": [
    "incomes.mean()"
   ]
  },
  {
   "cell_type": "code",
   "execution_count": 157,
   "metadata": {},
   "outputs": [
    {
     "data": {
      "text/plain": [
       "(array([  1.,   1.,   1.,   1.,   2.,   1.,   3.,   5.,   3.,   2.,   1.,\n",
       "          4.,   5.,  11.,  13.,  19.,  18.,  15.,  23.,  31.,  38.,  33.,\n",
       "         38.,  55.,  61.,  71.,  57.,  77.,  73.,  95., 106., 125., 135.,\n",
       "        131., 157., 166., 146., 184., 208., 242., 221., 221., 269., 259.,\n",
       "        264., 273., 281., 295., 309., 293., 319., 312., 298., 259., 297.,\n",
       "        256., 282., 277., 223., 226., 219., 194., 166., 174., 141., 158.,\n",
       "        155., 130., 114., 102.,  82.,  87.,  73.,  71.,  50.,  53.,  42.,\n",
       "         34.,  28.,  21.,  13.,  17.,  18.,  13.,  17.,   9.,   6.,   6.,\n",
       "          3.,   3.,   3.,   0.,   0.,   1.,   1.,   1.,   1.,   0.,   1.,\n",
       "          1.]),\n",
       " array([-27882.79630093, -26774.92056798, -25667.04483502, -24559.16910207,\n",
       "        -23451.29336911, -22343.41763616, -21235.54190321, -20127.66617025,\n",
       "        -19019.7904373 , -17911.91470435, -16804.03897139, -15696.16323844,\n",
       "        -14588.28750548, -13480.41177253, -12372.53603958, -11264.66030662,\n",
       "        -10156.78457367,  -9048.90884071,  -7941.03310776,  -6833.15737481,\n",
       "         -5725.28164185,  -4617.4059089 ,  -3509.53017594,  -2401.65444299,\n",
       "         -1293.77871004,   -185.90297708,    921.97275587,   2029.84848883,\n",
       "          3137.72422178,   4245.59995473,   5353.47568769,   6461.35142064,\n",
       "          7569.22715359,   8677.10288655,   9784.9786195 ,  10892.85435246,\n",
       "         12000.73008541,  13108.60581836,  14216.48155132,  15324.35728427,\n",
       "         16432.23301723,  17540.10875018,  18647.98448313,  19755.86021609,\n",
       "         20863.73594904,  21971.611682  ,  23079.48741495,  24187.3631479 ,\n",
       "         25295.23888086,  26403.11461381,  27510.99034676,  28618.86607972,\n",
       "         29726.74181267,  30834.61754563,  31942.49327858,  33050.36901153,\n",
       "         34158.24474449,  35266.12047744,  36373.9962104 ,  37481.87194335,\n",
       "         38589.7476763 ,  39697.62340926,  40805.49914221,  41913.37487517,\n",
       "         43021.25060812,  44129.12634107,  45237.00207403,  46344.87780698,\n",
       "         47452.75353994,  48560.62927289,  49668.50500584,  50776.3807388 ,\n",
       "         51884.25647175,  52992.1322047 ,  54100.00793766,  55207.88367061,\n",
       "         56315.75940357,  57423.63513652,  58531.51086947,  59639.38660243,\n",
       "         60747.26233538,  61855.13806834,  62963.01380129,  64070.88953424,\n",
       "         65178.7652672 ,  66286.64100015,  67394.51673311,  68502.39246606,\n",
       "         69610.26819901,  70718.14393197,  71826.01966492,  72933.89539787,\n",
       "         74041.77113083,  75149.64686378,  76257.52259674,  77365.39832969,\n",
       "         78473.27406264,  79581.1497956 ,  80689.02552855,  81796.90126151,\n",
       "         82904.77699446]),\n",
       " <a list of 100 Patch objects>)"
      ]
     },
     "execution_count": 157,
     "metadata": {},
     "output_type": "execute_result"
    },
    {
     "data": {
      "image/png": "[encoded data removed]",
      "text/plain": [
       "<Figure size 432x288 with 1 Axes>"
      ]
     },
     "metadata": {},
     "output_type": "display_data"
    }
   ],
   "source": [
    "plt.hist(incomes, 100, ec='w')"
   ]
  },
  {
   "cell_type": "code",
   "execution_count": 147,
   "metadata": {},
   "outputs": [],
   "source": [
    "incomes = np.append(incomes, [5000])"
   ]
  },
  {
   "cell_type": "code",
   "execution_count": 148,
   "metadata": {},
   "outputs": [
    {
     "data": {
      "text/plain": [
       "32804.2796295958"
      ]
     },
     "execution_count": 148,
     "metadata": {},
     "output_type": "execute_result"
    }
   ],
   "source": [
    "incomes.mean()"
   ]
  },
  {
   "cell_type": "code",
   "execution_count": 149,
   "metadata": {},
   "outputs": [
    {
     "data": {
      "text/plain": [
       "(array([1.0003e+04, 0.0000e+00, 0.0000e+00, 0.0000e+00, 0.0000e+00,\n",
       "        1.0000e+00, 0.0000e+00, 0.0000e+00, 0.0000e+00, 0.0000e+00,\n",
       "        0.0000e+00, 0.0000e+00, 0.0000e+00, 0.0000e+00, 0.0000e+00,\n",
       "        0.0000e+00, 0.0000e+00, 0.0000e+00, 0.0000e+00, 0.0000e+00,\n",
       "        0.0000e+00, 0.0000e+00, 0.0000e+00, 0.0000e+00, 0.0000e+00,\n",
       "        0.0000e+00, 0.0000e+00, 0.0000e+00, 0.0000e+00, 0.0000e+00,\n",
       "        0.0000e+00, 0.0000e+00, 0.0000e+00, 0.0000e+00, 0.0000e+00,\n",
       "        0.0000e+00, 0.0000e+00, 0.0000e+00, 0.0000e+00, 0.0000e+00,\n",
       "        0.0000e+00, 0.0000e+00, 0.0000e+00, 0.0000e+00, 0.0000e+00,\n",
       "        0.0000e+00, 0.0000e+00, 0.0000e+00, 0.0000e+00, 1.0000e+00]),\n",
       " array([-2.98719693e+04,  9.70725470e+05,  1.97132291e+06,  2.97192035e+06,\n",
       "         3.97251779e+06,  4.97311523e+06,  5.97371267e+06,  6.97431011e+06,\n",
       "         7.97490755e+06,  8.97550499e+06,  9.97610242e+06,  1.09766999e+07,\n",
       "         1.19772973e+07,  1.29778947e+07,  1.39784922e+07,  1.49790896e+07,\n",
       "         1.59796871e+07,  1.69802845e+07,  1.79808819e+07,  1.89814794e+07,\n",
       "         1.99820768e+07,  2.09826743e+07,  2.19832717e+07,  2.29838691e+07,\n",
       "         2.39844666e+07,  2.49850640e+07,  2.59856615e+07,  2.69862589e+07,\n",
       "         2.79868563e+07,  2.89874538e+07,  2.99880512e+07,  3.09886487e+07,\n",
       "         3.19892461e+07,  3.29898435e+07,  3.39904410e+07,  3.49910384e+07,\n",
       "         3.59916358e+07,  3.69922333e+07,  3.79928307e+07,  3.89934282e+07,\n",
       "         3.99940256e+07,  4.09946230e+07,  4.19952205e+07,  4.29958179e+07,\n",
       "         4.39964154e+07,  4.49970128e+07,  4.59976102e+07,  4.69982077e+07,\n",
       "         4.79988051e+07,  4.89994026e+07,  5.00000000e+07]),\n",
       " <a list of 50 Patch objects>)"
      ]
     },
     "execution_count": 149,
     "metadata": {},
     "output_type": "execute_result"
    },
    {
     "data": {
      "image/png": "[encoded data removed]",
      "text/plain": [
       "<Figure size 432x288 with 1 Axes>"
      ]
     },
     "metadata": {},
     "output_type": "display_data"
    }
   ],
   "source": [
    "plt.hist(incomes, 50)"
   ]
  },
  {
   "cell_type": "code",
   "execution_count": 150,
   "metadata": {},
   "outputs": [],
   "source": [
    "ages = np.random.randint(18, high=90, size=800)"
   ]
  },
  {
   "cell_type": "code",
   "execution_count": 151,
   "metadata": {},
   "outputs": [
    {
     "data": {
      "text/plain": [
       "48"
      ]
     },
     "execution_count": 151,
     "metadata": {},
     "output_type": "execute_result"
    }
   ],
   "source": [
    "stats.mode(ages)"
   ]
  },
  {
   "cell_type": "code",
   "execution_count": 152,
   "metadata": {},
   "outputs": [
    {
     "data": {
      "text/plain": [
       "array([18, 87, 69, 86, 78, 78, 48, 26, 37, 39, 43, 42, 70, 68, 53, 63, 54,\n",
       "       61, 75, 80, 27, 43, 80, 64, 88, 41, 48, 30, 46, 61, 74, 71, 60, 41,\n",
       "       72, 80, 66, 49, 84, 80, 63, 73, 36, 47, 64, 30, 41, 53, 27, 78, 80,\n",
       "       67, 60, 31, 39, 24, 43, 55, 78, 74, 73, 76, 73, 50, 88, 38, 75, 18,\n",
       "       83, 43, 44, 71, 22, 21, 86, 24, 53, 38, 38, 64, 83, 28, 22, 74, 80,\n",
       "       56, 75, 70, 78, 55, 49, 52, 26, 26, 77, 27, 52, 21, 74, 77, 62, 39,\n",
       "       76, 66, 39, 27, 73, 62, 70, 59, 22, 35, 81, 48, 23, 37, 47, 53, 80,\n",
       "       77, 31, 68, 39, 70, 26, 59, 34, 71, 39, 31, 19, 22, 82, 54, 54, 39,\n",
       "       40, 37, 53, 31, 32, 66, 39, 65, 45, 59, 83, 23, 48, 47, 51, 18, 73,\n",
       "       55, 51, 78, 27, 59, 71, 54, 56, 80, 59, 40, 53, 46, 76, 35, 30, 19,\n",
       "       48, 62, 44, 67, 46, 36, 33, 73, 51, 49, 57, 82, 78, 74, 51, 26, 31,\n",
       "       60, 81, 39, 77, 83, 59, 20, 59, 22, 64, 75, 69, 52, 56, 56, 89, 46,\n",
       "       80, 38, 59, 59, 48, 32, 39, 63, 24, 77, 61, 28, 42, 18, 32, 38, 54,\n",
       "       47, 88, 43, 21, 30, 42, 25, 60, 88, 50, 31, 65, 73, 48, 45, 82, 37,\n",
       "       75, 82, 81, 82, 44, 67, 54, 77, 78, 53, 49, 31, 74, 39, 61, 50, 51,\n",
       "       18, 68, 39, 19, 39, 80, 53, 78, 18, 82, 43, 66, 68, 57, 53, 47, 32,\n",
       "       24, 28, 81, 48, 62, 74, 48, 20, 60, 73, 83, 29, 52, 66, 52, 60, 73,\n",
       "       67, 69, 56, 64, 33, 69, 44, 73, 43, 29, 48, 50, 50, 28, 31, 26, 87,\n",
       "       81, 67, 28, 24, 25, 38, 71, 72, 67, 48, 41, 87, 54, 29, 30, 20, 64,\n",
       "       47, 31, 22, 76, 28, 44, 21, 44, 82, 52, 31, 40, 41, 45, 60, 43, 83,\n",
       "       36, 65, 47, 42, 54, 43, 48, 54, 39, 57, 38, 52, 40, 26, 54, 26, 39,\n",
       "       37, 43, 66, 73, 48, 20, 84, 19, 25, 35, 48, 72, 70, 46, 56, 37, 32,\n",
       "       76, 66, 59, 66, 85, 60, 85, 50, 57, 19, 86, 78, 71, 39, 60, 69, 58,\n",
       "       38, 29, 35, 89, 41, 77, 80, 32, 62, 66, 62, 86, 55, 67, 61, 83, 58,\n",
       "       22, 46, 76, 30, 24, 49, 50, 88, 46, 67, 55, 45, 48, 33, 68, 43, 35,\n",
       "       72, 85, 58, 34, 30, 68, 48, 38, 43, 20, 52, 18, 48, 89, 57, 73, 37,\n",
       "       89, 69, 23, 38, 19, 70, 50, 81, 31, 26, 73, 35, 56, 20, 28, 75, 62,\n",
       "       49, 54, 28, 42, 86, 60, 32, 26, 42, 43, 53, 21, 28, 81, 23, 34, 67,\n",
       "       52, 18, 25, 57, 76, 26, 42, 57, 87, 32, 72, 52, 26, 78, 79, 85, 49,\n",
       "       34, 40, 30, 61, 35, 37, 76, 21, 72, 30, 80, 77, 78, 37, 21, 43, 56,\n",
       "       56, 75, 45, 26, 49, 82, 60, 27, 38, 82, 21, 79, 42, 52, 81, 18, 87,\n",
       "       37, 68, 62, 75, 33, 45, 30, 61, 69, 73, 38, 45, 58, 39, 35, 78, 67,\n",
       "       66, 27, 76, 38, 75, 84, 32, 32, 30, 37, 64, 63, 75, 18, 54, 65, 67,\n",
       "       21, 68, 39, 37, 29, 30, 69, 58, 65, 31, 29, 21, 80, 85, 44, 75, 27,\n",
       "       62, 46, 45, 67, 33, 23, 64, 80, 29, 46, 41, 89, 38, 80, 81, 43, 32,\n",
       "       41, 66, 76, 40, 32, 69, 38, 61, 19, 43, 64, 33, 71, 73, 36, 64, 75,\n",
       "       20, 42, 59, 44, 18, 45, 79, 82, 58, 27, 45, 26, 82, 34, 37, 65, 41,\n",
       "       69, 87, 19, 71, 72, 77, 58, 24, 31, 47, 52, 30, 68, 49, 78, 66, 70,\n",
       "       79, 24, 29, 56, 36, 50, 43, 44, 44, 42, 23, 57, 64, 59, 66, 20, 50,\n",
       "       69, 82, 19, 27, 48, 65, 47, 66, 57, 33, 30, 85, 85, 50, 78, 53, 53,\n",
       "       65, 72, 80, 49, 18, 40, 63, 36, 49, 82, 75, 79, 83, 71, 35, 26, 53,\n",
       "       78, 61, 61, 35, 27, 49, 56, 71, 37, 45, 66, 89, 24, 29, 25, 67, 51,\n",
       "       82, 64, 88, 82, 46, 19, 62, 62, 82, 54, 23, 82, 86, 53, 62, 48, 26,\n",
       "       40, 25, 65, 53, 73, 61, 47, 67, 32, 49, 27, 69, 71, 64, 23, 41, 40,\n",
       "       58, 28, 42, 85, 56, 80, 83, 49, 75, 77, 28, 73, 89, 72, 40, 62, 54,\n",
       "       26, 83, 38, 81, 37, 62, 59, 50, 27, 42, 50, 50, 32, 42, 65, 75, 77,\n",
       "       30, 42, 32, 81, 65, 27, 61, 53, 27, 76, 64, 47, 83, 76, 56, 69, 89,\n",
       "       76])"
      ]
     },
     "execution_count": 152,
     "metadata": {},
     "output_type": "execute_result"
    }
   ],
   "source": [
    "ages"
   ]
  },
  {
   "cell_type": "code",
   "execution_count": null,
   "metadata": {},
   "outputs": [],
   "source": []
  },
  {
   "cell_type": "code",
   "execution_count": 164,
   "metadata": {},
   "outputs": [],
   "source": [
    "a = np.array([ 12,13,12,14,15,10,12,9,12,11,15,101,13 ])"
   ]
  },
  {
   "cell_type": "code",
   "execution_count": 165,
   "metadata": {},
   "outputs": [
    {
     "data": {
      "text/plain": [
       "15.0"
      ]
     },
     "execution_count": 165,
     "metadata": {},
     "output_type": "execute_result"
    }
   ],
   "source": [
    "# Say Aakash got 70 marks in exam — He says 90 percentile. Means 90% of students scored less than Aakash\n",
    "np.percentile(a, 90)\n",
    "\n",
    "# 90th percentile value --> 15"
   ]
  },
  {
   "cell_type": "code",
   "execution_count": 166,
   "metadata": {},
   "outputs": [],
   "source": [
    "q1 = np.percentile(a, 25)\n",
    "q2 = np.percentile(a, 75)"
   ]
  },
  {
   "cell_type": "code",
   "execution_count": 167,
   "metadata": {},
   "outputs": [
    {
     "data": {
      "text/plain": [
       "12.0"
      ]
     },
     "execution_count": 167,
     "metadata": {},
     "output_type": "execute_result"
    }
   ],
   "source": [
    "q1"
   ]
  },
  {
   "cell_type": "code",
   "execution_count": 168,
   "metadata": {},
   "outputs": [
    {
     "data": {
      "text/plain": [
       "14.0"
      ]
     },
     "execution_count": 168,
     "metadata": {},
     "output_type": "execute_result"
    }
   ],
   "source": [
    "q2"
   ]
  },
  {
   "cell_type": "code",
   "execution_count": null,
   "metadata": {},
   "outputs": [],
   "source": []
  },
  {
   "cell_type": "code",
   "execution_count": null,
   "metadata": {},
   "outputs": [],
   "source": []
  }
 ],
 "metadata": {
  "kernelspec": {
   "display_name": "Python 3",
   "language": "python",
   "name": "python3"
  },
  "language_info": {
   "codemirror_mode": {
    "name": "ipython",
    "version": 3
   },
   "file_extension": ".py",
   "mimetype": "text/x-python",
   "name": "python",
   "nbconvert_exporter": "python",
   "pygments_lexer": "ipython3",
   "version": "3.6.4"
  }
 },
 "nbformat": 4,
 "nbformat_minor": 2
}
