{
 "cells": [
  {
   "cell_type": "code",
   "execution_count": 1,
   "metadata": {},
   "outputs": [],
   "source": [
    "# Assignment\n",
    "# Interview questions\n",
    "ganesh.bhure1@gmail.com\n",
    "9320115006\n",
    "\n",
    "# ANN and introduction to deep learning"
   ]
  },
  {
   "cell_type": "code",
   "execution_count": null,
   "metadata": {},
   "outputs": [],
   "source": [
    "ML is rule based -- \n",
    "ML is not intuitive -- \n",
    "ML is not efficient high demensional data (~1000s of features)\n",
    "DL -- extracts the right features by itself and important features\n",
    "\n",
    "Intuition -- Using useful information and relevant information to predict about a situation that we dont\n",
    "have a direct experience of"
   ]
  },
  {
   "cell_type": "code",
   "execution_count": null,
   "metadata": {},
   "outputs": [],
   "source": [
    "ANN\n",
    "--\n",
    "Randomly initialise weigts (~0 but not zero)\n",
    "Input first record\n",
    "Forward propogation\n",
    "(L-->R) -- Predictions\n",
    "Backpropogation\n",
    "(R-->L) -- Error to back propogate.\n",
    "Repeat these steps till error is minimised"
   ]
  },
  {
   "cell_type": "code",
   "execution_count": null,
   "metadata": {},
   "outputs": [],
   "source": [
    "Activation Function -- Transforms the input to an output based on a condition\n",
    "\n",
    "Threshold function -- \n",
    "Sigmoid function -- "
   ]
  },
  {
   "cell_type": "code",
   "execution_count": null,
   "metadata": {},
   "outputs": [],
   "source": [
    "loss function -- compute err for single training example -- MSE\n",
    "\n",
    "cost function -- avg of loss functions for entire dataset\n"
   ]
  }
 ],
 "metadata": {
  "kernelspec": {
   "display_name": "Python 3",
   "language": "python",
   "name": "python3"
  },
  "language_info": {
   "codemirror_mode": {
    "name": "ipython",
    "version": 3
   },
   "file_extension": ".py",
   "mimetype": "text/x-python",
   "name": "python",
   "nbconvert_exporter": "python",
   "pygments_lexer": "ipython3",
   "version": "3.7.3"
  }
 },
 "nbformat": 4,
 "nbformat_minor": 4
}
